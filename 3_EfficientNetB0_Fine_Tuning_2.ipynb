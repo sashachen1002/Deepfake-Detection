{
  "nbformat": 4,
  "nbformat_minor": 0,
  "metadata": {
    "colab": {
      "provenance": [],
      "machine_shape": "hm",
      "gpuType": "V100"
    },
    "kernelspec": {
      "name": "python3",
      "display_name": "Python 3"
    },
    "language_info": {
      "name": "python"
    },
    "accelerator": "GPU"
  },
  "cells": [
    {
      "cell_type": "markdown",
      "source": [
        "Test 2-1"
      ],
      "metadata": {
        "id": "KGxiCVwVwbit"
      }
    },
    {
      "cell_type": "code",
      "source": [
        "import os\n",
        "import random\n",
        "import numpy as np\n",
        "import tensorflow as tf\n",
        "from tensorflow.keras.preprocessing.image import ImageDataGenerator\n",
        "from tensorflow.keras.applications import EfficientNetB0\n",
        "from tensorflow.keras.layers import Dense, GlobalAveragePooling2D, Dropout\n",
        "from tensorflow.keras.models import Model\n",
        "from tensorflow.keras.callbacks import ReduceLROnPlateau"
      ],
      "metadata": {
        "id": "CLbOS_wQwcfI"
      },
      "execution_count": null,
      "outputs": []
    },
    {
      "cell_type": "code",
      "source": [
        "# Set random seed for reproducibility\n",
        "random.seed(42)\n",
        "np.random.seed(42)\n",
        "tf.random.set_seed(42)"
      ],
      "metadata": {
        "id": "YKofaFmKwgka"
      },
      "execution_count": null,
      "outputs": []
    },
    {
      "cell_type": "code",
      "source": [
        "# Path to the directory containing the dataset\n",
        "data_dir = \"/content/drive/MyDrive/MIS 548 Porject Dataset\""
      ],
      "metadata": {
        "id": "yWApork6whMw"
      },
      "execution_count": null,
      "outputs": []
    },
    {
      "cell_type": "code",
      "source": [
        "# Data sampling and loading\n",
        "def sample_data(directory, sample_size):\n",
        "    files = os.listdir(directory)\n",
        "    sampled_files = random.sample(files, sample_size)\n",
        "    return [os.path.join(directory, file) for file in sampled_files]\n",
        "\n",
        "def load_data(directory, sample_size):\n",
        "    real_samples = sample_data(os.path.join(directory, \"Real\"), sample_size // 2)\n",
        "    fake_samples = sample_data(os.path.join(directory, \"Fake\"), sample_size // 2)\n",
        "    all_samples = real_samples + fake_samples\n",
        "    labels = [1] * (sample_size // 2) + [0] * (sample_size // 2)\n",
        "    return all_samples, labels"
      ],
      "metadata": {
        "id": "a7aylBn6wiaI"
      },
      "execution_count": null,
      "outputs": []
    },
    {
      "cell_type": "code",
      "source": [
        "# Load sampled data\n",
        "train_samples, train_labels = load_data(os.path.join(data_dir, \"Train\"), 10000)\n",
        "val_samples, val_labels = load_data(os.path.join(data_dir, \"Validation\"), 2000)\n",
        "test_samples, test_labels = load_data(os.path.join(data_dir, \"Test\"), 2000)"
      ],
      "metadata": {
        "id": "6o4rG3dmwlC-"
      },
      "execution_count": null,
      "outputs": []
    },
    {
      "cell_type": "code",
      "source": [
        "# Convert to DataFrame for using flow_from_dataframe\n",
        "import pandas as pd\n",
        "train_df = pd.DataFrame({'filename': train_samples, 'class': train_labels})\n",
        "val_df = pd.DataFrame({'filename': val_samples, 'class': val_labels})\n",
        "test_df = pd.DataFrame({'filename': test_samples, 'class': test_labels})"
      ],
      "metadata": {
        "id": "Ar112-wowmj1"
      },
      "execution_count": null,
      "outputs": []
    },
    {
      "cell_type": "code",
      "source": [
        "# Convert class labels to strings\n",
        "train_df['class'] = train_df['class'].astype(str)\n",
        "val_df['class'] = val_df['class'].astype(str)\n",
        "test_df['class'] = test_df['class'].astype(str)"
      ],
      "metadata": {
        "id": "aIpoKNPpwoJq"
      },
      "execution_count": null,
      "outputs": []
    },
    {
      "cell_type": "code",
      "source": [
        "# Data preprocessing and augmentation\n",
        "train_datagen = ImageDataGenerator(\n",
        "    preprocessing_function=tf.keras.applications.efficientnet.preprocess_input,\n",
        "    rotation_range=30,\n",
        "    width_shift_range=0.2,\n",
        "    height_shift_range=0.2,\n",
        "    shear_range=0.2,\n",
        "    zoom_range=0.2,\n",
        "    horizontal_flip=True,\n",
        "    brightness_range=[0.8, 1.2]  # Add brightness adjustment\n",
        ")\n",
        "\n",
        "val_datagen = ImageDataGenerator(\n",
        "    preprocessing_function=tf.keras.applications.efficientnet.preprocess_input\n",
        ")\n",
        "\n",
        "test_datagen = ImageDataGenerator(\n",
        "    preprocessing_function=tf.keras.applications.efficientnet.preprocess_input\n",
        ")\n",
        "\n",
        "# Create generators\n",
        "train_generator = train_datagen.flow_from_dataframe(\n",
        "    train_df,\n",
        "    target_size=(224, 224),\n",
        "    batch_size=32,\n",
        "    class_mode='binary'\n",
        ")\n",
        "\n",
        "val_generator = val_datagen.flow_from_dataframe(\n",
        "    val_df,\n",
        "    target_size=(224, 224),\n",
        "    batch_size=32,\n",
        "    class_mode='binary'\n",
        ")\n",
        "\n",
        "test_generator = test_datagen.flow_from_dataframe(\n",
        "    test_df,\n",
        "    target_size=(224, 224),\n",
        "    batch_size=32,\n",
        "    class_mode='binary'\n",
        ")"
      ],
      "metadata": {
        "colab": {
          "base_uri": "https://localhost:8080/"
        },
        "id": "m0XU0CiJwpzl",
        "outputId": "7f8e4b70-9f32-47a5-821a-43a4ce32f905"
      },
      "execution_count": null,
      "outputs": [
        {
          "output_type": "stream",
          "name": "stdout",
          "text": [
            "Found 10000 validated image filenames belonging to 2 classes.\n",
            "Found 2000 validated image filenames belonging to 2 classes.\n",
            "Found 2000 validated image filenames belonging to 2 classes.\n"
          ]
        }
      ]
    },
    {
      "cell_type": "code",
      "source": [
        "# Define the EfficientNet model architecture with regularization\n",
        "base_model = EfficientNetB0(weights='imagenet', include_top=False, input_shape=(224, 224, 3))\n",
        "x = base_model.output\n",
        "x = GlobalAveragePooling2D()(x)\n",
        "x = Dropout(0.5)(x)  # Dropout regularization\n",
        "predictions = Dense(1, activation='sigmoid')(x)\n",
        "model = Model(inputs=base_model.input, outputs=predictions)"
      ],
      "metadata": {
        "colab": {
          "base_uri": "https://localhost:8080/"
        },
        "id": "XjjBTlxnwrNH",
        "outputId": "089e0aa5-1974-438d-ae0a-030c3ca808c6"
      },
      "execution_count": null,
      "outputs": [
        {
          "output_type": "stream",
          "name": "stdout",
          "text": [
            "Downloading data from https://storage.googleapis.com/keras-applications/efficientnetb0_notop.h5\n",
            "16705208/16705208 [==============================] - 0s 0us/step\n"
          ]
        }
      ]
    },
    {
      "cell_type": "code",
      "source": [
        "# Compile the model\n",
        "model.compile(optimizer='adam',\n",
        "              loss='binary_crossentropy',\n",
        "              metrics=['accuracy'])"
      ],
      "metadata": {
        "id": "i5HtLp8Vwt7a"
      },
      "execution_count": null,
      "outputs": []
    },
    {
      "cell_type": "code",
      "source": [
        "# Implement Learning Rate Scheduling\n",
        "reduce_lr = ReduceLROnPlateau(monitor='val_loss', factor=0.2, patience=2, min_lr=1e-6)"
      ],
      "metadata": {
        "id": "BfGrCpilwvFR"
      },
      "execution_count": null,
      "outputs": []
    },
    {
      "cell_type": "code",
      "source": [
        "# Train the model\n",
        "model.fit(train_generator,\n",
        "          epochs=11,\n",
        "          validation_data=val_generator,\n",
        "          callbacks=[reduce_lr])"
      ],
      "metadata": {
        "colab": {
          "base_uri": "https://localhost:8080/"
        },
        "id": "88KemBVBwviA",
        "outputId": "64eee161-c5fe-4518-dcf6-a2cffcd0f955"
      },
      "execution_count": null,
      "outputs": [
        {
          "output_type": "stream",
          "name": "stdout",
          "text": [
            "Epoch 1/11\n",
            "313/313 [==============================] - 4719s 15s/step - loss: 0.2123 - accuracy: 0.9132 - val_loss: 0.5255 - val_accuracy: 0.8765 - lr: 0.0010\n",
            "Epoch 2/11\n",
            "313/313 [==============================] - 148s 471ms/step - loss: 0.1222 - accuracy: 0.9537 - val_loss: 0.3422 - val_accuracy: 0.9085 - lr: 0.0010\n",
            "Epoch 3/11\n",
            "313/313 [==============================] - 146s 466ms/step - loss: 0.1064 - accuracy: 0.9588 - val_loss: 0.1834 - val_accuracy: 0.9380 - lr: 0.0010\n",
            "Epoch 4/11\n",
            "313/313 [==============================] - 146s 466ms/step - loss: 0.0899 - accuracy: 0.9623 - val_loss: 0.2096 - val_accuracy: 0.9275 - lr: 0.0010\n",
            "Epoch 5/11\n",
            "313/313 [==============================] - 146s 467ms/step - loss: 0.0753 - accuracy: 0.9690 - val_loss: 0.1529 - val_accuracy: 0.9380 - lr: 0.0010\n",
            "Epoch 6/11\n",
            "313/313 [==============================] - 147s 469ms/step - loss: 0.0749 - accuracy: 0.9701 - val_loss: 0.1752 - val_accuracy: 0.9390 - lr: 0.0010\n",
            "Epoch 7/11\n",
            "313/313 [==============================] - 146s 467ms/step - loss: 0.0653 - accuracy: 0.9744 - val_loss: 0.1886 - val_accuracy: 0.9435 - lr: 0.0010\n",
            "Epoch 8/11\n",
            "313/313 [==============================] - 146s 465ms/step - loss: 0.0402 - accuracy: 0.9843 - val_loss: 0.1734 - val_accuracy: 0.9515 - lr: 2.0000e-04\n",
            "Epoch 9/11\n",
            "313/313 [==============================] - 146s 467ms/step - loss: 0.0330 - accuracy: 0.9873 - val_loss: 0.1745 - val_accuracy: 0.9525 - lr: 2.0000e-04\n",
            "Epoch 10/11\n",
            "313/313 [==============================] - 146s 466ms/step - loss: 0.0256 - accuracy: 0.9894 - val_loss: 0.1810 - val_accuracy: 0.9570 - lr: 4.0000e-05\n",
            "Epoch 11/11\n",
            "313/313 [==============================] - 147s 468ms/step - loss: 0.0258 - accuracy: 0.9895 - val_loss: 0.1755 - val_accuracy: 0.9565 - lr: 4.0000e-05\n"
          ]
        },
        {
          "output_type": "execute_result",
          "data": {
            "text/plain": [
              "<keras.src.callbacks.History at 0x7a48805b4820>"
            ]
          },
          "metadata": {},
          "execution_count": 17
        }
      ]
    },
    {
      "cell_type": "code",
      "source": [
        "# Evaluate the model\n",
        "loss, accuracy = model.evaluate(test_generator)\n",
        "print(\"Test Loss:\", loss)\n",
        "print(\"Test Accuracy:\", accuracy)"
      ],
      "metadata": {
        "colab": {
          "base_uri": "https://localhost:8080/"
        },
        "id": "hwmugAt1ww37",
        "outputId": "4ea97737-c29d-4e03-c887-baee4a70b25b"
      },
      "execution_count": null,
      "outputs": [
        {
          "output_type": "stream",
          "name": "stdout",
          "text": [
            "63/63 [==============================] - 701s 11s/step - loss: 0.9692 - accuracy: 0.8590\n",
            "Test Loss: 0.9692012071609497\n",
            "Test Accuracy: 0.859000027179718\n"
          ]
        }
      ]
    }
  ]
}