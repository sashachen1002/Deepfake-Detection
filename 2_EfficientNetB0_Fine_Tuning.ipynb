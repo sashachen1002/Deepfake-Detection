{
  "nbformat": 4,
  "nbformat_minor": 0,
  "metadata": {
    "colab": {
      "provenance": [],
      "machine_shape": "hm",
      "gpuType": "V100"
    },
    "kernelspec": {
      "name": "python3",
      "display_name": "Python 3"
    },
    "language_info": {
      "name": "python"
    },
    "accelerator": "GPU"
  },
  "cells": [
    {
      "cell_type": "markdown",
      "source": [
        "Test 1"
      ],
      "metadata": {
        "id": "wryZD7foYJY2"
      }
    },
    {
      "cell_type": "code",
      "source": [
        "import os\n",
        "import random\n",
        "import numpy as np\n",
        "import pandas as pd\n",
        "import tensorflow as tf\n",
        "from tensorflow.keras.preprocessing.image import ImageDataGenerator\n",
        "from tensorflow.keras.applications import EfficientNetB0\n",
        "from tensorflow.keras.layers import Dense, GlobalAveragePooling2D, Dropout\n",
        "from tensorflow.keras.models import Model"
      ],
      "metadata": {
        "id": "ZFINESrMXtQc"
      },
      "execution_count": null,
      "outputs": []
    },
    {
      "cell_type": "code",
      "source": [
        "# Set random seed for reproducibility\n",
        "random.seed(42)\n",
        "np.random.seed(42)\n",
        "tf.random.set_seed(42)"
      ],
      "metadata": {
        "id": "W6sKhRhEXu3K"
      },
      "execution_count": null,
      "outputs": []
    },
    {
      "cell_type": "code",
      "source": [
        "# Path to the directory containing the dataset\n",
        "data_dir = \"/content/drive/MyDrive/MIS 548 Porject Dataset\""
      ],
      "metadata": {
        "id": "PZv3mUhcXyjQ"
      },
      "execution_count": null,
      "outputs": []
    },
    {
      "cell_type": "code",
      "source": [
        "# Data sampling and loading\n",
        "def sample_data(directory, sample_size):\n",
        "    files = os.listdir(directory)\n",
        "    sampled_files = random.sample(files, sample_size)\n",
        "    return [os.path.join(directory, file) for file in sampled_files]\n",
        "\n",
        "def load_data(directory, sample_size):\n",
        "    real_samples = sample_data(os.path.join(directory, \"Real\"), sample_size // 2)\n",
        "    fake_samples = sample_data(os.path.join(directory, \"Fake\"), sample_size // 2)\n",
        "    all_samples = real_samples + fake_samples\n",
        "    labels = [1] * (sample_size // 2) + [0] * (sample_size // 2)\n",
        "    return all_samples, labels"
      ],
      "metadata": {
        "id": "qjTZaOvqXz0c"
      },
      "execution_count": null,
      "outputs": []
    },
    {
      "cell_type": "code",
      "source": [
        "# Load sampled data\n",
        "train_samples, train_labels = load_data(os.path.join(data_dir, \"Train\"), 10000)\n",
        "val_samples, val_labels = load_data(os.path.join(data_dir, \"Validation\"), 2000)\n",
        "test_samples, test_labels = load_data(os.path.join(data_dir, \"Test\"), 2000)"
      ],
      "metadata": {
        "id": "hx-_C_zOX2DG"
      },
      "execution_count": null,
      "outputs": []
    },
    {
      "cell_type": "code",
      "source": [
        "# Data preprocessing and augmentation\n",
        "train_datagen = ImageDataGenerator(\n",
        "    preprocessing_function=tf.keras.applications.efficientnet.preprocess_input,\n",
        "    rotation_range=20,\n",
        "    width_shift_range=0.2,\n",
        "    height_shift_range=0.2,\n",
        "    shear_range=0.2,\n",
        "    zoom_range=0.2,\n",
        "    horizontal_flip=True,\n",
        ")\n",
        "\n",
        "val_datagen = ImageDataGenerator(\n",
        "    preprocessing_function=tf.keras.applications.efficientnet.preprocess_input\n",
        ")\n",
        "\n",
        "test_datagen = ImageDataGenerator(\n",
        "    preprocessing_function=tf.keras.applications.efficientnet.preprocess_input\n",
        ")"
      ],
      "metadata": {
        "id": "yDYRACy5X3zC"
      },
      "execution_count": null,
      "outputs": []
    },
    {
      "cell_type": "code",
      "source": [
        "# Convert to DataFrame for using flow_from_dataframe\n",
        "train_df = pd.DataFrame({'filename': train_samples, 'class': train_labels})\n",
        "val_df = pd.DataFrame({'filename': val_samples, 'class': val_labels})\n",
        "test_df = pd.DataFrame({'filename': test_samples, 'class': test_labels})"
      ],
      "metadata": {
        "id": "bw86iMVSX6Zo"
      },
      "execution_count": null,
      "outputs": []
    },
    {
      "cell_type": "code",
      "source": [
        "# Convert class labels to strings\n",
        "train_df['class'] = train_df['class'].astype(str)\n",
        "val_df['class'] = val_df['class'].astype(str)\n",
        "test_df['class'] = test_df['class'].astype(str)"
      ],
      "metadata": {
        "id": "Ko2Cnp8xYUMj"
      },
      "execution_count": null,
      "outputs": []
    },
    {
      "cell_type": "code",
      "source": [
        "# Create generators\n",
        "train_generator = train_datagen.flow_from_dataframe(\n",
        "    train_df,\n",
        "    x_col='filename',\n",
        "    y_col='class',\n",
        "    target_size=(224, 224),\n",
        "    batch_size=32,\n",
        "    class_mode='binary'\n",
        ")\n",
        "\n",
        "val_generator = val_datagen.flow_from_dataframe(\n",
        "    val_df,\n",
        "    x_col='filename',\n",
        "    y_col='class',\n",
        "    target_size=(224, 224),\n",
        "    batch_size=32,\n",
        "    class_mode='binary'\n",
        ")\n",
        "\n",
        "test_generator = test_datagen.flow_from_dataframe(\n",
        "    test_df,\n",
        "    x_col='filename',\n",
        "    y_col='class',\n",
        "    target_size=(224, 224),\n",
        "    batch_size=32,\n",
        "    class_mode='binary'\n",
        ")"
      ],
      "metadata": {
        "colab": {
          "base_uri": "https://localhost:8080/"
        },
        "id": "rEDOvhILX714",
        "outputId": "4068680e-3528-49a3-a849-29f9b154a995"
      },
      "execution_count": null,
      "outputs": [
        {
          "output_type": "stream",
          "name": "stdout",
          "text": [
            "Found 10000 validated image filenames belonging to 2 classes.\n",
            "Found 2000 validated image filenames belonging to 2 classes.\n",
            "Found 2000 validated image filenames belonging to 2 classes.\n"
          ]
        }
      ]
    },
    {
      "cell_type": "code",
      "source": [
        "# Define the EfficientNet model architecture with regularization\n",
        "base_model = EfficientNetB0(weights='imagenet', include_top=False, input_shape=(224, 224, 3))\n",
        "x = base_model.output\n",
        "x = GlobalAveragePooling2D()(x)\n",
        "x = Dropout(0.5)(x)  # Dropout regularization\n",
        "predictions = Dense(1, activation='sigmoid')(x)\n",
        "model = Model(inputs=base_model.input, outputs=predictions)"
      ],
      "metadata": {
        "id": "DfV7sNA_YXVx",
        "colab": {
          "base_uri": "https://localhost:8080/"
        },
        "outputId": "baa4aaca-6d88-413b-c5eb-2e30178aba26"
      },
      "execution_count": null,
      "outputs": [
        {
          "output_type": "stream",
          "name": "stdout",
          "text": [
            "Downloading data from https://storage.googleapis.com/keras-applications/efficientnetb0_notop.h5\n",
            "16705208/16705208 [==============================] - 1s 0us/step\n"
          ]
        }
      ]
    },
    {
      "cell_type": "code",
      "source": [
        "# Compile the model\n",
        "model.compile(optimizer='adam',\n",
        "              loss='binary_crossentropy',\n",
        "              metrics=['accuracy'])"
      ],
      "metadata": {
        "id": "UMZZ91qOYZjc"
      },
      "execution_count": null,
      "outputs": []
    },
    {
      "cell_type": "code",
      "source": [
        "# Train the model\n",
        "model.fit(train_generator,\n",
        "          epochs=5,\n",
        "          validation_data=val_generator)"
      ],
      "metadata": {
        "colab": {
          "base_uri": "https://localhost:8080/"
        },
        "id": "pSP17PnWYbjb",
        "outputId": "d4038f9e-ee6d-447f-ab87-3cf2d2cb9773"
      },
      "execution_count": null,
      "outputs": [
        {
          "output_type": "stream",
          "name": "stdout",
          "text": [
            "Epoch 1/5\n",
            "313/313 [==============================] - 6112s 19s/step - loss: 0.2064 - accuracy: 0.9158 - val_loss: 0.1515 - val_accuracy: 0.9445\n",
            "Epoch 2/5\n",
            "313/313 [==============================] - 128s 410ms/step - loss: 0.1143 - accuracy: 0.9553 - val_loss: 0.2767 - val_accuracy: 0.9215\n",
            "Epoch 3/5\n",
            "313/313 [==============================] - 128s 408ms/step - loss: 0.0975 - accuracy: 0.9621 - val_loss: 0.1716 - val_accuracy: 0.9330\n",
            "Epoch 4/5\n",
            "313/313 [==============================] - 127s 407ms/step - loss: 0.0779 - accuracy: 0.9676 - val_loss: 0.2692 - val_accuracy: 0.9175\n",
            "Epoch 5/5\n",
            "313/313 [==============================] - 127s 407ms/step - loss: 0.0711 - accuracy: 0.9702 - val_loss: 0.4681 - val_accuracy: 0.8705\n"
          ]
        },
        {
          "output_type": "execute_result",
          "data": {
            "text/plain": [
              "<keras.src.callbacks.History at 0x7f4b7c4acca0>"
            ]
          },
          "metadata": {},
          "execution_count": 15
        }
      ]
    },
    {
      "cell_type": "code",
      "source": [
        "# Evaluate the model\n",
        "loss, accuracy = model.evaluate(test_generator)\n",
        "print(\"Test Loss:\", loss)\n",
        "print(\"Test Accuracy:\", accuracy)"
      ],
      "metadata": {
        "colab": {
          "base_uri": "https://localhost:8080/"
        },
        "id": "_2ZmX7t9XsNv",
        "outputId": "381ed79b-95ee-4e6c-e0f8-ca4ad7d71cad"
      },
      "execution_count": null,
      "outputs": [
        {
          "output_type": "stream",
          "name": "stdout",
          "text": [
            "63/63 [==============================] - 1031s 17s/step - loss: 1.2067 - accuracy: 0.7305\n",
            "Test Loss: 1.2067334651947021\n",
            "Test Accuracy: 0.7304999828338623\n"
          ]
        }
      ]
    },
    {
      "cell_type": "markdown",
      "source": [
        "Test 2\n",
        "\n",
        "* Data Augmentation: I added more aggressive data augmentation techniques such as rotation, width and height shifts, shear, zoom, horizontal flip, and brightness adjustment.\n",
        "* Fine-tuning: I used a dropout layer to prevent overfitting and added a ReduceLROnPlateau callback for learning rate scheduling during training.\n",
        "* Learning Rate Scheduling: The learning rate will decrease by a factor of 0.2 if the validation loss does not improve for 2 epochs. This helps the model to converge more effectively."
      ],
      "metadata": {
        "id": "pFyLhKfvq4Id"
      }
    },
    {
      "cell_type": "code",
      "source": [
        "import os\n",
        "import random\n",
        "import numpy as np\n",
        "import tensorflow as tf\n",
        "from tensorflow.keras.preprocessing.image import ImageDataGenerator\n",
        "from tensorflow.keras.applications import EfficientNetB0\n",
        "from tensorflow.keras.layers import Dense, GlobalAveragePooling2D, Dropout\n",
        "from tensorflow.keras.models import Model\n",
        "from tensorflow.keras.callbacks import ReduceLROnPlateau"
      ],
      "metadata": {
        "id": "zI5XjViGq6mB"
      },
      "execution_count": null,
      "outputs": []
    },
    {
      "cell_type": "code",
      "source": [
        "# Set random seed for reproducibility\n",
        "random.seed(42)\n",
        "np.random.seed(42)\n",
        "tf.random.set_seed(42)"
      ],
      "metadata": {
        "id": "MkYLkVOxq8Jr"
      },
      "execution_count": null,
      "outputs": []
    },
    {
      "cell_type": "code",
      "source": [
        "# Path to the directory containing the dataset\n",
        "data_dir = \"/content/drive/MyDrive/MIS 548 Porject Dataset\""
      ],
      "metadata": {
        "id": "Jr7dtTrWq9oF"
      },
      "execution_count": null,
      "outputs": []
    },
    {
      "cell_type": "code",
      "source": [
        "# Data sampling and loading\n",
        "def sample_data(directory, sample_size):\n",
        "    files = os.listdir(directory)\n",
        "    sampled_files = random.sample(files, sample_size)\n",
        "    return [os.path.join(directory, file) for file in sampled_files]\n",
        "\n",
        "def load_data(directory, sample_size):\n",
        "    real_samples = sample_data(os.path.join(directory, \"Real\"), sample_size // 2)\n",
        "    fake_samples = sample_data(os.path.join(directory, \"Fake\"), sample_size // 2)\n",
        "    all_samples = real_samples + fake_samples\n",
        "    labels = [1] * (sample_size // 2) + [0] * (sample_size // 2)\n",
        "    return all_samples, labels"
      ],
      "metadata": {
        "id": "BzjhBwAAq-4q"
      },
      "execution_count": null,
      "outputs": []
    },
    {
      "cell_type": "code",
      "source": [
        "# Load sampled data\n",
        "train_samples, train_labels = load_data(os.path.join(data_dir, \"Train\"), 10000)\n",
        "val_samples, val_labels = load_data(os.path.join(data_dir, \"Validation\"), 2000)\n",
        "test_samples, test_labels = load_data(os.path.join(data_dir, \"Test\"), 2000)"
      ],
      "metadata": {
        "id": "Vq4A75zCrCYS"
      },
      "execution_count": null,
      "outputs": []
    },
    {
      "cell_type": "code",
      "source": [
        "# Convert to DataFrame for using flow_from_dataframe\n",
        "train_df = pd.DataFrame({'filename': train_samples, 'class': train_labels})\n",
        "val_df = pd.DataFrame({'filename': val_samples, 'class': val_labels})\n",
        "test_df = pd.DataFrame({'filename': test_samples, 'class': test_labels})"
      ],
      "metadata": {
        "id": "lpbjCFWAriv4"
      },
      "execution_count": null,
      "outputs": []
    },
    {
      "cell_type": "code",
      "source": [
        "# Convert class labels to strings\n",
        "train_df['class'] = train_df['class'].astype(str)\n",
        "val_df['class'] = val_df['class'].astype(str)\n",
        "test_df['class'] = test_df['class'].astype(str)"
      ],
      "metadata": {
        "id": "WKjJ0k9HrXH2"
      },
      "execution_count": null,
      "outputs": []
    },
    {
      "cell_type": "code",
      "source": [
        "# Data preprocessing and augmentation\n",
        "train_datagen = ImageDataGenerator(\n",
        "    preprocessing_function=tf.keras.applications.efficientnet.preprocess_input,\n",
        "    rotation_range=30,\n",
        "    width_shift_range=0.2,\n",
        "    height_shift_range=0.2,\n",
        "    shear_range=0.2,\n",
        "    zoom_range=0.2,\n",
        "    horizontal_flip=True,\n",
        "    brightness_range=[0.8, 1.2]  # Add brightness adjustment\n",
        ")\n",
        "\n",
        "val_datagen = ImageDataGenerator(\n",
        "    preprocessing_function=tf.keras.applications.efficientnet.preprocess_input\n",
        ")\n",
        "\n",
        "test_datagen = ImageDataGenerator(\n",
        "    preprocessing_function=tf.keras.applications.efficientnet.preprocess_input\n",
        ")\n",
        "\n",
        "# Create generators\n",
        "train_generator = train_datagen.flow_from_dataframe(\n",
        "    train_df,\n",
        "    target_size=(224, 224),\n",
        "    batch_size=32,\n",
        "    class_mode='binary'\n",
        ")\n",
        "\n",
        "val_generator = val_datagen.flow_from_dataframe(\n",
        "    val_df,\n",
        "    target_size=(224, 224),\n",
        "    batch_size=32,\n",
        "    class_mode='binary'\n",
        ")\n",
        "\n",
        "test_generator = test_datagen.flow_from_dataframe(\n",
        "    test_df,\n",
        "    target_size=(224, 224),\n",
        "    batch_size=32,\n",
        "    class_mode='binary'\n",
        ")"
      ],
      "metadata": {
        "colab": {
          "base_uri": "https://localhost:8080/"
        },
        "id": "Qd-0DXj7rEKR",
        "outputId": "f9ee5aa5-1070-41e1-a17c-500b3aa2635a"
      },
      "execution_count": null,
      "outputs": [
        {
          "output_type": "stream",
          "name": "stdout",
          "text": [
            "Found 10000 validated image filenames belonging to 2 classes.\n",
            "Found 2000 validated image filenames belonging to 2 classes.\n",
            "Found 2000 validated image filenames belonging to 2 classes.\n"
          ]
        }
      ]
    },
    {
      "cell_type": "code",
      "source": [
        "# Define the EfficientNet model architecture with regularization\n",
        "base_model = EfficientNetB0(weights='imagenet', include_top=False, input_shape=(224, 224, 3))\n",
        "x = base_model.output\n",
        "x = GlobalAveragePooling2D()(x)\n",
        "x = Dropout(0.5)(x)  # Dropout regularization\n",
        "predictions = Dense(1, activation='sigmoid')(x)\n",
        "model = Model(inputs=base_model.input, outputs=predictions)"
      ],
      "metadata": {
        "id": "3dpbaL4hrulM"
      },
      "execution_count": null,
      "outputs": []
    },
    {
      "cell_type": "code",
      "source": [
        "# Compile the model\n",
        "model.compile(optimizer='adam',\n",
        "              loss='binary_crossentropy',\n",
        "              metrics=['accuracy'])"
      ],
      "metadata": {
        "id": "kfpHdYMyrwd6"
      },
      "execution_count": null,
      "outputs": []
    },
    {
      "cell_type": "code",
      "source": [
        "# Implement Learning Rate Scheduling\n",
        "reduce_lr = ReduceLROnPlateau(monitor='val_loss', factor=0.2, patience=2, min_lr=1e-6)"
      ],
      "metadata": {
        "id": "ayNkGgyEryTx"
      },
      "execution_count": null,
      "outputs": []
    },
    {
      "cell_type": "code",
      "source": [
        "# Train the model\n",
        "model.fit(train_generator,\n",
        "          epochs=5,\n",
        "          validation_data=val_generator,\n",
        "          callbacks=[reduce_lr])"
      ],
      "metadata": {
        "colab": {
          "base_uri": "https://localhost:8080/"
        },
        "id": "SdiSy_0qr1fj",
        "outputId": "f5d34bba-4f0f-45de-cb51-f32339202208"
      },
      "execution_count": null,
      "outputs": [
        {
          "output_type": "stream",
          "name": "stdout",
          "text": [
            "Epoch 1/5\n",
            "313/313 [==============================] - 190s 506ms/step - loss: 0.2123 - accuracy: 0.9132 - val_loss: 0.5256 - val_accuracy: 0.8760 - lr: 0.0010\n",
            "Epoch 2/5\n",
            "313/313 [==============================] - 157s 499ms/step - loss: 0.1221 - accuracy: 0.9535 - val_loss: 0.3531 - val_accuracy: 0.9065 - lr: 0.0010\n",
            "Epoch 3/5\n",
            "313/313 [==============================] - 158s 506ms/step - loss: 0.1061 - accuracy: 0.9588 - val_loss: 0.1973 - val_accuracy: 0.9245 - lr: 0.0010\n",
            "Epoch 4/5\n",
            "313/313 [==============================] - 158s 503ms/step - loss: 0.0926 - accuracy: 0.9619 - val_loss: 0.2017 - val_accuracy: 0.9350 - lr: 0.0010\n",
            "Epoch 5/5\n",
            "313/313 [==============================] - 159s 508ms/step - loss: 0.0752 - accuracy: 0.9698 - val_loss: 0.1506 - val_accuracy: 0.9420 - lr: 0.0010\n"
          ]
        },
        {
          "output_type": "execute_result",
          "data": {
            "text/plain": [
              "<keras.src.callbacks.History at 0x7d3df5bef700>"
            ]
          },
          "metadata": {},
          "execution_count": 35
        }
      ]
    },
    {
      "cell_type": "code",
      "source": [
        "# Evaluate the model\n",
        "loss, accuracy = model.evaluate(test_generator)\n",
        "print(\"Test Loss:\", loss)\n",
        "print(\"Test Accuracy:\", accuracy)"
      ],
      "metadata": {
        "colab": {
          "base_uri": "https://localhost:8080/"
        },
        "id": "M2YdisMYq5Gh",
        "outputId": "4c6d81fc-1d5d-4cda-c714-a4b91e01dd5b"
      },
      "execution_count": null,
      "outputs": [
        {
          "output_type": "stream",
          "name": "stdout",
          "text": [
            "63/63 [==============================] - 6s 97ms/step - loss: 0.4591 - accuracy: 0.8755\n",
            "Test Loss: 0.45907220244407654\n",
            "Test Accuracy: 0.8755000233650208\n"
          ]
        }
      ]
    },
    {
      "cell_type": "markdown",
      "source": [
        "Test 3\n",
        "\n",
        "* We fine-tune the top layers of the pre-trained model by unfreezing them and continuing training with a lower learning rate.\n",
        "* Learning rate scheduling is continued to adapt to the fine-tuning process.\n",
        "* Dropout regularization is used to reduce overfitting during training."
      ],
      "metadata": {
        "id": "DnAW816WwVdK"
      }
    },
    {
      "cell_type": "code",
      "source": [
        "import os\n",
        "import random\n",
        "import numpy as np\n",
        "import tensorflow as tf\n",
        "from tensorflow.keras.preprocessing.image import ImageDataGenerator\n",
        "from tensorflow.keras.applications import EfficientNetB0\n",
        "from tensorflow.keras.layers import Dense, GlobalAveragePooling2D, Dropout\n",
        "from tensorflow.keras.models import Model\n",
        "from tensorflow.keras.callbacks import ReduceLROnPlateau"
      ],
      "metadata": {
        "id": "iYkoGz4SwXq0"
      },
      "execution_count": null,
      "outputs": []
    },
    {
      "cell_type": "code",
      "source": [
        "# Set random seed for reproducibility\n",
        "random.seed(42)\n",
        "np.random.seed(42)\n",
        "tf.random.set_seed(42)"
      ],
      "metadata": {
        "id": "10jKVjSTwaOB"
      },
      "execution_count": null,
      "outputs": []
    },
    {
      "cell_type": "code",
      "source": [
        "# Path to the directory containing the dataset\n",
        "data_dir = \"/content/drive/MyDrive/MIS 548 Porject Dataset\""
      ],
      "metadata": {
        "id": "eEYsLfm9wbcx"
      },
      "execution_count": null,
      "outputs": []
    },
    {
      "cell_type": "code",
      "source": [
        "# Data sampling and loading\n",
        "def sample_data(directory, sample_size):\n",
        "    files = os.listdir(directory)\n",
        "    sampled_files = random.sample(files, sample_size)\n",
        "    return [os.path.join(directory, file) for file in sampled_files]\n",
        "\n",
        "def load_data(directory, sample_size):\n",
        "    real_samples = sample_data(os.path.join(directory, \"Real\"), sample_size // 2)\n",
        "    fake_samples = sample_data(os.path.join(directory, \"Fake\"), sample_size // 2)\n",
        "    all_samples = real_samples + fake_samples\n",
        "    labels = [1] * (sample_size // 2) + [0] * (sample_size // 2)\n",
        "    return all_samples, labels"
      ],
      "metadata": {
        "id": "irq1a7K_wcxm"
      },
      "execution_count": null,
      "outputs": []
    },
    {
      "cell_type": "code",
      "source": [
        "# Load sampled data\n",
        "train_samples, train_labels = load_data(os.path.join(data_dir, \"Train\"), 10000)\n",
        "val_samples, val_labels = load_data(os.path.join(data_dir, \"Validation\"), 2000)\n",
        "test_samples, test_labels = load_data(os.path.join(data_dir, \"Test\"), 2000)"
      ],
      "metadata": {
        "id": "_fcKQKGewe3t"
      },
      "execution_count": null,
      "outputs": []
    },
    {
      "cell_type": "code",
      "source": [
        "# Convert to DataFrame for using flow_from_dataframe\n",
        "train_df = pd.DataFrame({'filename': train_samples, 'class': train_labels})\n",
        "val_df = pd.DataFrame({'filename': val_samples, 'class': val_labels})\n",
        "test_df = pd.DataFrame({'filename': test_samples, 'class': test_labels})"
      ],
      "metadata": {
        "id": "2Xslo0qowmpf"
      },
      "execution_count": null,
      "outputs": []
    },
    {
      "cell_type": "code",
      "source": [
        "# Convert class labels to strings\n",
        "train_df['class'] = train_df['class'].astype(str)\n",
        "val_df['class'] = val_df['class'].astype(str)\n",
        "test_df['class'] = test_df['class'].astype(str)"
      ],
      "metadata": {
        "id": "__LlxOoxwr10"
      },
      "execution_count": null,
      "outputs": []
    },
    {
      "cell_type": "code",
      "source": [
        "# Data preprocessing and augmentation\n",
        "train_datagen = ImageDataGenerator(\n",
        "    preprocessing_function=tf.keras.applications.efficientnet.preprocess_input,\n",
        "    rotation_range=30,\n",
        "    width_shift_range=0.2,\n",
        "    height_shift_range=0.2,\n",
        "    shear_range=0.2,\n",
        "    zoom_range=0.2,\n",
        "    horizontal_flip=True,\n",
        "    brightness_range=[0.8, 1.2]  # Add brightness adjustment\n",
        ")\n",
        "\n",
        "val_datagen = ImageDataGenerator(\n",
        "    preprocessing_function=tf.keras.applications.efficientnet.preprocess_input\n",
        ")\n",
        "\n",
        "test_datagen = ImageDataGenerator(\n",
        "    preprocessing_function=tf.keras.applications.efficientnet.preprocess_input\n",
        ")"
      ],
      "metadata": {
        "id": "m6ctQ6C8wg3q"
      },
      "execution_count": null,
      "outputs": []
    },
    {
      "cell_type": "code",
      "source": [
        "# Create generators\n",
        "train_generator = train_datagen.flow_from_dataframe(\n",
        "    train_df,\n",
        "    target_size=(224, 224),\n",
        "    batch_size=32,\n",
        "    class_mode='binary'\n",
        ")\n",
        "\n",
        "val_generator = val_datagen.flow_from_dataframe(\n",
        "    val_df,\n",
        "    target_size=(224, 224),\n",
        "    batch_size=32,\n",
        "    class_mode='binary'\n",
        ")\n",
        "\n",
        "test_generator = test_datagen.flow_from_dataframe(\n",
        "    test_df,\n",
        "    target_size=(224, 224),\n",
        "    batch_size=32,\n",
        "    class_mode='binary'\n",
        ")"
      ],
      "metadata": {
        "colab": {
          "base_uri": "https://localhost:8080/"
        },
        "id": "oGm2IRsQwkSh",
        "outputId": "53fe111d-5beb-42e2-b732-b9ef9672bb69"
      },
      "execution_count": null,
      "outputs": [
        {
          "output_type": "stream",
          "name": "stdout",
          "text": [
            "Found 10000 validated image filenames belonging to 2 classes.\n",
            "Found 2000 validated image filenames belonging to 2 classes.\n",
            "Found 2000 validated image filenames belonging to 2 classes.\n"
          ]
        }
      ]
    },
    {
      "cell_type": "code",
      "source": [
        "# Define the EfficientNet model architecture with regularization\n",
        "base_model = EfficientNetB0(weights='imagenet', include_top=False, input_shape=(224, 224, 3))\n",
        "x = base_model.output\n",
        "x = GlobalAveragePooling2D()(x)\n",
        "x = Dropout(0.5)(x)  # Dropout regularization\n",
        "predictions = Dense(1, activation='sigmoid')(x)\n",
        "model = Model(inputs=base_model.input, outputs=predictions)"
      ],
      "metadata": {
        "id": "UnEq1KPJww1y"
      },
      "execution_count": null,
      "outputs": []
    },
    {
      "cell_type": "code",
      "source": [
        "# Freeze the base model layers\n",
        "for layer in base_model.layers:\n",
        "    layer.trainable = False"
      ],
      "metadata": {
        "id": "qMQSXUatxCdK"
      },
      "execution_count": null,
      "outputs": []
    },
    {
      "cell_type": "code",
      "source": [
        "# Compile the model\n",
        "model.compile(optimizer='adam',\n",
        "              loss='binary_crossentropy',\n",
        "              metrics=['accuracy'])"
      ],
      "metadata": {
        "id": "IJMih2RTxEDF"
      },
      "execution_count": null,
      "outputs": []
    },
    {
      "cell_type": "code",
      "source": [
        "# Implement Learning Rate Scheduling\n",
        "reduce_lr = ReduceLROnPlateau(monitor='val_loss', factor=0.2, patience=2, min_lr=1e-6)"
      ],
      "metadata": {
        "id": "7kx1TBWlxGqT"
      },
      "execution_count": null,
      "outputs": []
    },
    {
      "cell_type": "code",
      "source": [
        "# Train the model\n",
        "model.fit(train_generator,\n",
        "          epochs=5,\n",
        "          validation_data=val_generator,\n",
        "          callbacks=[reduce_lr])"
      ],
      "metadata": {
        "colab": {
          "base_uri": "https://localhost:8080/"
        },
        "id": "i6uXoiwfxI9B",
        "outputId": "e9bc0445-80eb-4ae5-83da-1a73158a076d"
      },
      "execution_count": null,
      "outputs": [
        {
          "output_type": "stream",
          "name": "stdout",
          "text": [
            "Epoch 1/5\n",
            "313/313 [==============================] - 162s 497ms/step - loss: 0.6051 - accuracy: 0.6713 - val_loss: 0.5309 - val_accuracy: 0.7335 - lr: 0.0010\n",
            "Epoch 2/5\n",
            "313/313 [==============================] - 153s 487ms/step - loss: 0.5342 - accuracy: 0.7249 - val_loss: 0.5103 - val_accuracy: 0.7430 - lr: 0.0010\n",
            "Epoch 3/5\n",
            "313/313 [==============================] - 154s 490ms/step - loss: 0.5248 - accuracy: 0.7363 - val_loss: 0.4899 - val_accuracy: 0.7580 - lr: 0.0010\n",
            "Epoch 4/5\n",
            "313/313 [==============================] - 154s 493ms/step - loss: 0.5235 - accuracy: 0.7382 - val_loss: 0.4935 - val_accuracy: 0.7570 - lr: 0.0010\n",
            "Epoch 5/5\n",
            "313/313 [==============================] - 154s 491ms/step - loss: 0.5121 - accuracy: 0.7400 - val_loss: 0.4837 - val_accuracy: 0.7660 - lr: 0.0010\n"
          ]
        },
        {
          "output_type": "execute_result",
          "data": {
            "text/plain": [
              "<keras.src.callbacks.History at 0x7d3dd3482b00>"
            ]
          },
          "metadata": {},
          "execution_count": 52
        }
      ]
    },
    {
      "cell_type": "code",
      "source": [
        "# Fine-tune the top layers of the model\n",
        "for layer in model.layers[-20:]:\n",
        "    layer.trainable = True"
      ],
      "metadata": {
        "id": "HRR1f4CQxLBF"
      },
      "execution_count": null,
      "outputs": []
    },
    {
      "cell_type": "code",
      "source": [
        "# Adjust learning rate for fine-tuning\n",
        "model.compile(optimizer=tf.keras.optimizers.Adam(lr=0.0001),  # Lower learning rate\n",
        "              loss='binary_crossentropy',\n",
        "              metrics=['accuracy'])"
      ],
      "metadata": {
        "colab": {
          "base_uri": "https://localhost:8080/"
        },
        "id": "7QSNKAG6xNAt",
        "outputId": "325b2f7d-8128-4c83-fa44-2ac6e4e66260"
      },
      "execution_count": null,
      "outputs": [
        {
          "output_type": "stream",
          "name": "stderr",
          "text": [
            "WARNING:absl:`lr` is deprecated in Keras optimizer, please use `learning_rate` or use the legacy optimizer, e.g.,tf.keras.optimizers.legacy.Adam.\n"
          ]
        }
      ]
    },
    {
      "cell_type": "code",
      "source": [
        "# Train the model with fine-tuning\n",
        "model.fit(train_generator,\n",
        "          epochs=5,\n",
        "          validation_data=val_generator,\n",
        "          callbacks=[reduce_lr])"
      ],
      "metadata": {
        "colab": {
          "base_uri": "https://localhost:8080/"
        },
        "id": "kvgk1l7zxPDJ",
        "outputId": "d2fe6add-257b-4168-949a-d3c42274618a"
      },
      "execution_count": null,
      "outputs": [
        {
          "output_type": "stream",
          "name": "stdout",
          "text": [
            "Epoch 1/5\n",
            "313/313 [==============================] - 165s 500ms/step - loss: 0.3405 - accuracy: 0.8460 - val_loss: 0.3980 - val_accuracy: 0.8465 - lr: 0.0010\n",
            "Epoch 2/5\n",
            "313/313 [==============================] - 153s 490ms/step - loss: 0.2293 - accuracy: 0.9054 - val_loss: 0.2820 - val_accuracy: 0.8805 - lr: 0.0010\n",
            "Epoch 3/5\n",
            "313/313 [==============================] - 154s 491ms/step - loss: 0.1962 - accuracy: 0.9182 - val_loss: 0.5044 - val_accuracy: 0.8200 - lr: 0.0010\n",
            "Epoch 4/5\n",
            "313/313 [==============================] - 155s 496ms/step - loss: 0.1785 - accuracy: 0.9301 - val_loss: 0.2666 - val_accuracy: 0.9020 - lr: 0.0010\n",
            "Epoch 5/5\n",
            "313/313 [==============================] - 153s 490ms/step - loss: 0.1561 - accuracy: 0.9368 - val_loss: 0.3574 - val_accuracy: 0.8670 - lr: 0.0010\n"
          ]
        },
        {
          "output_type": "execute_result",
          "data": {
            "text/plain": [
              "<keras.src.callbacks.History at 0x7d3dd3633b80>"
            ]
          },
          "metadata": {},
          "execution_count": 55
        }
      ]
    },
    {
      "cell_type": "code",
      "source": [
        "# Evaluate the model\n",
        "loss, accuracy = model.evaluate(test_generator)\n",
        "print(\"Test Loss:\", loss)\n",
        "print(\"Test Accuracy:\", accuracy)"
      ],
      "metadata": {
        "colab": {
          "base_uri": "https://localhost:8080/"
        },
        "id": "9ZhiHyctwWgD",
        "outputId": "b0236e94-a91a-41d1-c25c-7f92f053e962"
      },
      "execution_count": null,
      "outputs": [
        {
          "output_type": "stream",
          "name": "stdout",
          "text": [
            "63/63 [==============================] - 7s 104ms/step - loss: 0.6643 - accuracy: 0.7895\n",
            "Test Loss: 0.6643425822257996\n",
            "Test Accuracy: 0.7894999980926514\n"
          ]
        }
      ]
    },
    {
      "cell_type": "markdown",
      "source": [
        "Test 4\n",
        "* We fine-tune more layers of the pre-trained model by unfreezing additional layers.\n",
        "* We adjust the learning rate even further for fine-tuning to ensure better convergence.\n",
        "* We also add more data augmentation techniques, such as fill_mode, to provide the model with more diverse training samples."
      ],
      "metadata": {
        "id": "T6PdywfCQIny"
      }
    },
    {
      "cell_type": "code",
      "source": [
        "import os\n",
        "import random\n",
        "import numpy as np\n",
        "import tensorflow as tf\n",
        "import pandas as pd\n",
        "from tensorflow.keras.preprocessing.image import ImageDataGenerator\n",
        "from tensorflow.keras.applications import EfficientNetB0\n",
        "from tensorflow.keras.layers import Dense, GlobalAveragePooling2D, Dropout\n",
        "from tensorflow.keras.models import Model\n",
        "from tensorflow.keras.callbacks import ReduceLROnPlateau"
      ],
      "metadata": {
        "id": "9ENKPRHLQLTb"
      },
      "execution_count": null,
      "outputs": []
    },
    {
      "cell_type": "code",
      "source": [
        "# Set random seed for reproducibility\n",
        "random.seed(42)\n",
        "np.random.seed(42)\n",
        "tf.random.set_seed(42)"
      ],
      "metadata": {
        "id": "7kGKAvc6QP8Z"
      },
      "execution_count": null,
      "outputs": []
    },
    {
      "cell_type": "code",
      "source": [
        "# Path to the directory containing the dataset\n",
        "data_dir = \"/content/drive/MyDrive/MIS 548 Porject Dataset\""
      ],
      "metadata": {
        "id": "outs4zJOQRmV"
      },
      "execution_count": null,
      "outputs": []
    },
    {
      "cell_type": "code",
      "source": [
        "# Data sampling and loading\n",
        "def sample_data(directory, sample_size):\n",
        "    files = os.listdir(directory)\n",
        "    sampled_files = random.sample(files, sample_size)\n",
        "    return [os.path.join(directory, file) for file in sampled_files]\n",
        "\n",
        "def load_data(directory, sample_size):\n",
        "    real_samples = sample_data(os.path.join(directory, \"Real\"), sample_size // 2)\n",
        "    fake_samples = sample_data(os.path.join(directory, \"Fake\"), sample_size // 2)\n",
        "    all_samples = real_samples + fake_samples\n",
        "    labels = [1] * (sample_size // 2) + [0] * (sample_size // 2)\n",
        "    return all_samples, labels"
      ],
      "metadata": {
        "id": "TG9tlt7lQSVV"
      },
      "execution_count": null,
      "outputs": []
    },
    {
      "cell_type": "code",
      "source": [
        "# Load sampled data\n",
        "train_samples, train_labels = load_data(os.path.join(data_dir, \"Train\"), 10000)\n",
        "val_samples, val_labels = load_data(os.path.join(data_dir, \"Validation\"), 2000)\n",
        "test_samples, test_labels = load_data(os.path.join(data_dir, \"Test\"), 2000)"
      ],
      "metadata": {
        "id": "-1qWjz-5QT2f"
      },
      "execution_count": null,
      "outputs": []
    },
    {
      "cell_type": "code",
      "source": [
        "# Convert to DataFrame for using flow_from_dataframe\n",
        "train_df = pd.DataFrame({'filename': train_samples, 'class': train_labels})\n",
        "val_df = pd.DataFrame({'filename': val_samples, 'class': val_labels})\n",
        "test_df = pd.DataFrame({'filename': test_samples, 'class': test_labels})"
      ],
      "metadata": {
        "id": "hHlinFyaQZLL"
      },
      "execution_count": null,
      "outputs": []
    },
    {
      "cell_type": "code",
      "source": [
        "# Convert class labels to strings\n",
        "train_df['class'] = train_df['class'].astype(str)\n",
        "val_df['class'] = val_df['class'].astype(str)\n",
        "test_df['class'] = test_df['class'].astype(str)"
      ],
      "metadata": {
        "id": "XhBIhNSdQZjN"
      },
      "execution_count": null,
      "outputs": []
    },
    {
      "cell_type": "code",
      "source": [
        "# Data preprocessing and augmentation\n",
        "train_datagen = ImageDataGenerator(\n",
        "    preprocessing_function=tf.keras.applications.efficientnet.preprocess_input,\n",
        "    rotation_range=30,\n",
        "    width_shift_range=0.2,\n",
        "    height_shift_range=0.2,\n",
        "    shear_range=0.2,\n",
        "    zoom_range=0.2,\n",
        "    horizontal_flip=True,\n",
        "    brightness_range=[0.8, 1.2],  # Add brightness adjustment\n",
        "    fill_mode='nearest'  # Add fill mode\n",
        ")\n",
        "\n",
        "val_datagen = ImageDataGenerator(\n",
        "    preprocessing_function=tf.keras.applications.efficientnet.preprocess_input\n",
        ")\n",
        "\n",
        "test_datagen = ImageDataGenerator(\n",
        "    preprocessing_function=tf.keras.applications.efficientnet.preprocess_input\n",
        ")"
      ],
      "metadata": {
        "id": "K8cIL83HQcPb"
      },
      "execution_count": null,
      "outputs": []
    },
    {
      "cell_type": "code",
      "source": [
        "# Create generators\n",
        "train_generator = train_datagen.flow_from_dataframe(\n",
        "    train_df,\n",
        "    target_size=(224, 224),\n",
        "    batch_size=32,\n",
        "    class_mode='binary'\n",
        ")\n",
        "\n",
        "val_generator = val_datagen.flow_from_dataframe(\n",
        "    val_df,\n",
        "    target_size=(224, 224),\n",
        "    batch_size=32,\n",
        "    class_mode='binary'\n",
        ")\n",
        "\n",
        "test_generator = test_datagen.flow_from_dataframe(\n",
        "    test_df,\n",
        "    target_size=(224, 224),\n",
        "    batch_size=32,\n",
        "    class_mode='binary'\n",
        ")"
      ],
      "metadata": {
        "colab": {
          "base_uri": "https://localhost:8080/"
        },
        "id": "uM7BqTYnQeg3",
        "outputId": "4108c321-4955-4418-8cc4-0acf3a6cade0"
      },
      "execution_count": null,
      "outputs": [
        {
          "output_type": "stream",
          "name": "stdout",
          "text": [
            "Found 10000 validated image filenames belonging to 2 classes.\n",
            "Found 2000 validated image filenames belonging to 2 classes.\n",
            "Found 2000 validated image filenames belonging to 2 classes.\n"
          ]
        }
      ]
    },
    {
      "cell_type": "code",
      "source": [
        "# Define the EfficientNet model architecture with regularization\n",
        "base_model = EfficientNetB0(weights='imagenet', include_top=False, input_shape=(224, 224, 3))\n",
        "x = base_model.output\n",
        "x = GlobalAveragePooling2D()(x)\n",
        "x = Dropout(0.5)(x)  # Dropout regularization\n",
        "predictions = Dense(1, activation='sigmoid')(x)\n",
        "model = Model(inputs=base_model.input, outputs=predictions)"
      ],
      "metadata": {
        "id": "VNLR1uMrQpon"
      },
      "execution_count": null,
      "outputs": []
    },
    {
      "cell_type": "code",
      "source": [
        "# Freeze the base model layers\n",
        "for layer in base_model.layers:\n",
        "    layer.trainable = False"
      ],
      "metadata": {
        "id": "ids2elwUQrn6"
      },
      "execution_count": null,
      "outputs": []
    },
    {
      "cell_type": "code",
      "source": [
        "# Compile the model\n",
        "model.compile(optimizer='adam',\n",
        "              loss='binary_crossentropy',\n",
        "              metrics=['accuracy'])"
      ],
      "metadata": {
        "id": "KNeTTJmfQtNP"
      },
      "execution_count": null,
      "outputs": []
    },
    {
      "cell_type": "code",
      "source": [
        "# Implement Learning Rate Scheduling\n",
        "reduce_lr = ReduceLROnPlateau(monitor='val_loss', factor=0.2, patience=2, min_lr=1e-6)"
      ],
      "metadata": {
        "id": "oO6S8wV_Qule"
      },
      "execution_count": null,
      "outputs": []
    },
    {
      "cell_type": "code",
      "source": [
        "# Train the model\n",
        "model.fit(train_generator,\n",
        "          epochs=5,\n",
        "          validation_data=val_generator,\n",
        "          callbacks=[reduce_lr])"
      ],
      "metadata": {
        "colab": {
          "base_uri": "https://localhost:8080/"
        },
        "id": "izdb6YX6QxMi",
        "outputId": "81194add-418f-493d-e6d6-7c5d825e48ce"
      },
      "execution_count": null,
      "outputs": [
        {
          "output_type": "stream",
          "name": "stdout",
          "text": [
            "Epoch 1/5\n",
            "313/313 [==============================] - 1668s 5s/step - loss: 0.6051 - accuracy: 0.6713 - val_loss: 0.5309 - val_accuracy: 0.7335 - lr: 0.0010\n",
            "Epoch 2/5\n",
            "313/313 [==============================] - 151s 482ms/step - loss: 0.5342 - accuracy: 0.7249 - val_loss: 0.5103 - val_accuracy: 0.7430 - lr: 0.0010\n",
            "Epoch 3/5\n",
            "313/313 [==============================] - 149s 476ms/step - loss: 0.5248 - accuracy: 0.7363 - val_loss: 0.4899 - val_accuracy: 0.7580 - lr: 0.0010\n",
            "Epoch 4/5\n",
            "313/313 [==============================] - 150s 479ms/step - loss: 0.5235 - accuracy: 0.7382 - val_loss: 0.4935 - val_accuracy: 0.7570 - lr: 0.0010\n",
            "Epoch 5/5\n",
            "313/313 [==============================] - 151s 484ms/step - loss: 0.5121 - accuracy: 0.7400 - val_loss: 0.4837 - val_accuracy: 0.7660 - lr: 0.0010\n"
          ]
        },
        {
          "output_type": "execute_result",
          "data": {
            "text/plain": [
              "<keras.src.callbacks.History at 0x7b12da36ea40>"
            ]
          },
          "metadata": {},
          "execution_count": 36
        }
      ]
    },
    {
      "cell_type": "code",
      "source": [
        "# Fine-tune more layers of the model\n",
        "for layer in model.layers[-100:]:\n",
        "    layer.trainable = True"
      ],
      "metadata": {
        "id": "VBavfScpQzQo"
      },
      "execution_count": null,
      "outputs": []
    },
    {
      "cell_type": "code",
      "source": [
        "# Adjust learning rate for fine-tuning\n",
        "model.compile(optimizer=tf.keras.optimizers.Adam(lr=0.00001),  # Lower learning rate\n",
        "              loss='binary_crossentropy',\n",
        "              metrics=['accuracy'])"
      ],
      "metadata": {
        "colab": {
          "base_uri": "https://localhost:8080/"
        },
        "id": "ZDCd532-Q0og",
        "outputId": "a654d91d-b72f-43fb-dc7d-13ba1766905b"
      },
      "execution_count": null,
      "outputs": [
        {
          "output_type": "stream",
          "name": "stderr",
          "text": [
            "WARNING:absl:`lr` is deprecated in Keras optimizer, please use `learning_rate` or use the legacy optimizer, e.g.,tf.keras.optimizers.legacy.Adam.\n"
          ]
        }
      ]
    },
    {
      "cell_type": "code",
      "source": [
        "# Train the model with fine-tuning\n",
        "model.fit(train_generator,\n",
        "          epochs=5,\n",
        "          validation_data=val_generator,\n",
        "          callbacks=[reduce_lr])"
      ],
      "metadata": {
        "colab": {
          "base_uri": "https://localhost:8080/"
        },
        "id": "eMGJPANcQ3X8",
        "outputId": "394fcd92-f883-46f2-b6d4-e237f2822276"
      },
      "execution_count": null,
      "outputs": [
        {
          "output_type": "stream",
          "name": "stdout",
          "text": [
            "Epoch 1/5\n",
            "313/313 [==============================] - 167s 480ms/step - loss: 0.2354 - accuracy: 0.9021 - val_loss: 0.3078 - val_accuracy: 0.9010 - lr: 0.0010\n",
            "Epoch 2/5\n",
            "313/313 [==============================] - 149s 476ms/step - loss: 0.1379 - accuracy: 0.9434 - val_loss: 0.2107 - val_accuracy: 0.9175 - lr: 0.0010\n",
            "Epoch 3/5\n",
            "313/313 [==============================] - 143s 458ms/step - loss: 0.1039 - accuracy: 0.9569 - val_loss: 0.3168 - val_accuracy: 0.9285 - lr: 0.0010\n",
            "Epoch 4/5\n",
            "313/313 [==============================] - 145s 462ms/step - loss: 0.0950 - accuracy: 0.9644 - val_loss: 0.3555 - val_accuracy: 0.8790 - lr: 0.0010\n",
            "Epoch 5/5\n",
            "313/313 [==============================] - 144s 459ms/step - loss: 0.0596 - accuracy: 0.9770 - val_loss: 0.1516 - val_accuracy: 0.9525 - lr: 2.0000e-04\n"
          ]
        },
        {
          "output_type": "execute_result",
          "data": {
            "text/plain": [
              "<keras.src.callbacks.History at 0x7b12da709d50>"
            ]
          },
          "metadata": {},
          "execution_count": 39
        }
      ]
    },
    {
      "cell_type": "code",
      "source": [
        "# Evaluate the model\n",
        "loss, accuracy = model.evaluate(test_generator)\n",
        "print(\"Test Loss:\", loss)\n",
        "print(\"Test Accuracy:\", accuracy)"
      ],
      "metadata": {
        "colab": {
          "base_uri": "https://localhost:8080/"
        },
        "id": "qGD37EGeQ34z",
        "outputId": "e5d6ceb2-79fd-45af-f90a-e32cbf252bde"
      },
      "execution_count": null,
      "outputs": [
        {
          "output_type": "stream",
          "name": "stdout",
          "text": [
            "63/63 [==============================] - 6s 101ms/step - loss: 0.4813 - accuracy: 0.8660\n",
            "Test Loss: 0.4813050329685211\n",
            "Test Accuracy: 0.8659999966621399\n"
          ]
        }
      ]
    },
    {
      "cell_type": "markdown",
      "source": [
        "Test 5"
      ],
      "metadata": {
        "id": "zGn8B-vyfrqH"
      }
    },
    {
      "cell_type": "code",
      "source": [
        "import os\n",
        "import random\n",
        "import numpy as np\n",
        "import tensorflow as tf\n",
        "import pandas as pd\n",
        "from tensorflow.keras.preprocessing.image import ImageDataGenerator\n",
        "from tensorflow.keras.applications import EfficientNetB0\n",
        "from tensorflow.keras.layers import Dense, GlobalAveragePooling2D, Dropout\n",
        "from tensorflow.keras.models import Model\n",
        "from tensorflow.keras.callbacks import ReduceLROnPlateau"
      ],
      "metadata": {
        "id": "ragi6ZAUfxCw"
      },
      "execution_count": null,
      "outputs": []
    },
    {
      "cell_type": "code",
      "source": [
        "# Set random seed for reproducibility\n",
        "random.seed(42)\n",
        "np.random.seed(42)\n",
        "tf.random.set_seed(42)"
      ],
      "metadata": {
        "id": "r3nA7q23f3WC"
      },
      "execution_count": null,
      "outputs": []
    },
    {
      "cell_type": "code",
      "source": [
        "# Path to the directory containing the dataset\n",
        "data_dir = \"/content/drive/MyDrive/MIS 548 Porject Dataset\""
      ],
      "metadata": {
        "id": "WrFrZSKAf4dp"
      },
      "execution_count": null,
      "outputs": []
    },
    {
      "cell_type": "code",
      "source": [
        "# Data sampling and loading\n",
        "def sample_data(directory, sample_size):\n",
        "    files = os.listdir(directory)\n",
        "    sampled_files = random.sample(files, sample_size)\n",
        "    return [os.path.join(directory, file) for file in sampled_files]\n",
        "\n",
        "def load_data(directory, sample_size):\n",
        "    real_samples = sample_data(os.path.join(directory, \"Real\"), sample_size // 2)\n",
        "    fake_samples = sample_data(os.path.join(directory, \"Fake\"), sample_size // 2)\n",
        "    all_samples = real_samples + fake_samples\n",
        "    labels = [1] * (sample_size // 2) + [0] * (sample_size // 2)\n",
        "    return all_samples, labels"
      ],
      "metadata": {
        "id": "VoceQBXYf57K"
      },
      "execution_count": null,
      "outputs": []
    },
    {
      "cell_type": "code",
      "source": [
        "# Load sampled data\n",
        "train_samples, train_labels = load_data(os.path.join(data_dir, \"Train\"), 10000)\n",
        "val_samples, val_labels = load_data(os.path.join(data_dir, \"Validation\"), 2000)\n",
        "test_samples, test_labels = load_data(os.path.join(data_dir, \"Test\"), 2000)"
      ],
      "metadata": {
        "id": "tBgQTEngf9GV"
      },
      "execution_count": null,
      "outputs": []
    },
    {
      "cell_type": "code",
      "source": [
        "# Convert to DataFrame for using flow_from_dataframe\n",
        "train_df = pd.DataFrame({'filename': train_samples, 'class': train_labels})\n",
        "val_df = pd.DataFrame({'filename': val_samples, 'class': val_labels})\n",
        "test_df = pd.DataFrame({'filename': test_samples, 'class': test_labels})"
      ],
      "metadata": {
        "id": "PCW2vg7Kf-mp"
      },
      "execution_count": null,
      "outputs": []
    },
    {
      "cell_type": "code",
      "source": [
        "# Convert class labels to strings\n",
        "train_df['class'] = train_df['class'].astype(str)\n",
        "val_df['class'] = val_df['class'].astype(str)\n",
        "test_df['class'] = test_df['class'].astype(str)"
      ],
      "metadata": {
        "id": "lmh9XDDTgB0S"
      },
      "execution_count": null,
      "outputs": []
    },
    {
      "cell_type": "code",
      "source": [
        "# Data preprocessing and augmentation\n",
        "train_datagen = ImageDataGenerator(\n",
        "    preprocessing_function=tf.keras.applications.efficientnet.preprocess_input,\n",
        "    rotation_range=45,  # Increase rotation range\n",
        "    width_shift_range=0.3,  # Increase width shift range\n",
        "    height_shift_range=0.3,  # Increase height shift range\n",
        "    shear_range=0.2,\n",
        "    zoom_range=0.2,\n",
        "    horizontal_flip=True,\n",
        "    brightness_range=[0.8, 1.2],\n",
        "    fill_mode='nearest'\n",
        ")\n",
        "\n",
        "val_datagen = ImageDataGenerator(\n",
        "    preprocessing_function=tf.keras.applications.efficientnet.preprocess_input\n",
        ")\n",
        "\n",
        "test_datagen = ImageDataGenerator(\n",
        "    preprocessing_function=tf.keras.applications.efficientnet.preprocess_input\n",
        ")"
      ],
      "metadata": {
        "id": "ER3TmuVvgFC8"
      },
      "execution_count": null,
      "outputs": []
    },
    {
      "cell_type": "code",
      "source": [
        "# Create generators\n",
        "train_generator = train_datagen.flow_from_dataframe(\n",
        "    train_df,\n",
        "    target_size=(224, 224),\n",
        "    batch_size=32,\n",
        "    class_mode='binary'\n",
        ")\n",
        "\n",
        "val_generator = val_datagen.flow_from_dataframe(\n",
        "    val_df,\n",
        "    target_size=(224, 224),\n",
        "    batch_size=32,\n",
        "    class_mode='binary'\n",
        ")\n",
        "\n",
        "test_generator = test_datagen.flow_from_dataframe(\n",
        "    test_df,\n",
        "    target_size=(224, 224),\n",
        "    batch_size=32,\n",
        "    class_mode='binary'\n",
        ")"
      ],
      "metadata": {
        "colab": {
          "base_uri": "https://localhost:8080/"
        },
        "id": "vs8BnqcWgG-Y",
        "outputId": "0a24456a-b300-4c05-f637-24111b057dca"
      },
      "execution_count": null,
      "outputs": [
        {
          "output_type": "stream",
          "name": "stdout",
          "text": [
            "Found 10000 validated image filenames belonging to 2 classes.\n",
            "Found 2000 validated image filenames belonging to 2 classes.\n",
            "Found 2000 validated image filenames belonging to 2 classes.\n"
          ]
        }
      ]
    },
    {
      "cell_type": "code",
      "source": [
        "# Define the EfficientNet model architecture with regularization\n",
        "base_model = EfficientNetB0(weights='imagenet', include_top=False, input_shape=(224, 224, 3))\n",
        "x = base_model.output\n",
        "x = GlobalAveragePooling2D()(x)\n",
        "x = Dropout(0.5)(x)\n",
        "predictions = Dense(1, activation='sigmoid')(x)\n",
        "model = Model(inputs=base_model.input, outputs=predictions)"
      ],
      "metadata": {
        "colab": {
          "base_uri": "https://localhost:8080/"
        },
        "id": "kJ8IcsG4gMhQ",
        "outputId": "1035804c-f017-4a4b-9bb3-fc6970dc19a8"
      },
      "execution_count": null,
      "outputs": [
        {
          "output_type": "stream",
          "name": "stdout",
          "text": [
            "Downloading data from https://storage.googleapis.com/keras-applications/efficientnetb0_notop.h5\n",
            "16705208/16705208 [==============================] - 1s 0us/step\n"
          ]
        }
      ]
    },
    {
      "cell_type": "code",
      "source": [
        "# Freeze the base model layers\n",
        "for layer in base_model.layers:\n",
        "    layer.trainable = False"
      ],
      "metadata": {
        "id": "nvrooX9ogOQd"
      },
      "execution_count": null,
      "outputs": []
    },
    {
      "cell_type": "code",
      "source": [
        "# Compile the model\n",
        "model.compile(optimizer='adam',\n",
        "              loss='binary_crossentropy',\n",
        "              metrics=['accuracy'])"
      ],
      "metadata": {
        "id": "bAb-BKJHgQHT"
      },
      "execution_count": null,
      "outputs": []
    },
    {
      "cell_type": "code",
      "source": [
        "# Implement Learning Rate Scheduling\n",
        "reduce_lr = ReduceLROnPlateau(monitor='val_loss', factor=0.2, patience=2, min_lr=1e-6)"
      ],
      "metadata": {
        "id": "ZMKjLn72gRkh"
      },
      "execution_count": null,
      "outputs": []
    },
    {
      "cell_type": "code",
      "source": [
        "# Train the model\n",
        "model.fit(train_generator,\n",
        "          epochs=5,\n",
        "          validation_data=val_generator,\n",
        "          callbacks=[reduce_lr])"
      ],
      "metadata": {
        "colab": {
          "base_uri": "https://localhost:8080/"
        },
        "id": "FnTjfkrcgTVu",
        "outputId": "13c133e0-28dd-4003-b048-37326fe25c1d"
      },
      "execution_count": null,
      "outputs": [
        {
          "output_type": "stream",
          "name": "stdout",
          "text": [
            "Epoch 1/5\n",
            "313/313 [==============================] - 6266s 20s/step - loss: 0.6096 - accuracy: 0.6650 - val_loss: 0.5322 - val_accuracy: 0.7275 - lr: 0.0010\n",
            "Epoch 2/5\n",
            "313/313 [==============================] - 158s 505ms/step - loss: 0.5352 - accuracy: 0.7245 - val_loss: 0.5130 - val_accuracy: 0.7430 - lr: 0.0010\n",
            "Epoch 3/5\n",
            "313/313 [==============================] - 158s 505ms/step - loss: 0.5278 - accuracy: 0.7296 - val_loss: 0.4908 - val_accuracy: 0.7580 - lr: 0.0010\n",
            "Epoch 4/5\n",
            "313/313 [==============================] - 157s 503ms/step - loss: 0.5260 - accuracy: 0.7337 - val_loss: 0.5003 - val_accuracy: 0.7490 - lr: 0.0010\n",
            "Epoch 5/5\n",
            "313/313 [==============================] - 154s 492ms/step - loss: 0.5133 - accuracy: 0.7407 - val_loss: 0.4882 - val_accuracy: 0.7600 - lr: 0.0010\n"
          ]
        },
        {
          "output_type": "execute_result",
          "data": {
            "text/plain": [
              "<keras.src.callbacks.History at 0x7a8babfc8940>"
            ]
          },
          "metadata": {},
          "execution_count": 17
        }
      ]
    },
    {
      "cell_type": "code",
      "source": [
        "# Fine-tune more layers of the model\n",
        "for layer in model.layers[-150:]:  # Fine-tune more layers\n",
        "    layer.trainable = True"
      ],
      "metadata": {
        "id": "hhQSUbPwgVFv"
      },
      "execution_count": null,
      "outputs": []
    },
    {
      "cell_type": "code",
      "source": [
        "# Adjust learning rate for fine-tuning\n",
        "model.compile(optimizer=tf.keras.optimizers.Adam(lr=0.00001),\n",
        "              loss='binary_crossentropy',\n",
        "              metrics=['accuracy'])"
      ],
      "metadata": {
        "id": "EQ4dBNHCgXUw",
        "colab": {
          "base_uri": "https://localhost:8080/"
        },
        "outputId": "5dafae94-8bf2-449c-a596-e49d958de125"
      },
      "execution_count": null,
      "outputs": [
        {
          "output_type": "stream",
          "name": "stderr",
          "text": [
            "WARNING:absl:`lr` is deprecated in Keras optimizer, please use `learning_rate` or use the legacy optimizer, e.g.,tf.keras.optimizers.legacy.Adam.\n"
          ]
        }
      ]
    },
    {
      "cell_type": "code",
      "source": [
        "# Train the model with fine-tuning\n",
        "model.fit(train_generator,\n",
        "          epochs=5,\n",
        "          validation_data=val_generator,\n",
        "          callbacks=[reduce_lr])"
      ],
      "metadata": {
        "id": "I_IJ2n8ogYwj",
        "colab": {
          "base_uri": "https://localhost:8080/"
        },
        "outputId": "e8fd75a8-f060-48a0-e611-8cdc508c672b"
      },
      "execution_count": null,
      "outputs": [
        {
          "output_type": "stream",
          "name": "stdout",
          "text": [
            "Epoch 1/5\n",
            "313/313 [==============================] - 183s 508ms/step - loss: 0.2314 - accuracy: 0.9078 - val_loss: 0.3032 - val_accuracy: 0.9005 - lr: 0.0010\n",
            "Epoch 2/5\n",
            "313/313 [==============================] - 156s 498ms/step - loss: 0.1294 - accuracy: 0.9469 - val_loss: 0.3021 - val_accuracy: 0.9225 - lr: 0.0010\n",
            "Epoch 3/5\n",
            "313/313 [==============================] - 159s 508ms/step - loss: 0.1098 - accuracy: 0.9541 - val_loss: 0.3475 - val_accuracy: 0.9275 - lr: 0.0010\n",
            "Epoch 4/5\n",
            "313/313 [==============================] - 162s 518ms/step - loss: 0.1001 - accuracy: 0.9622 - val_loss: 0.2003 - val_accuracy: 0.9375 - lr: 0.0010\n",
            "Epoch 5/5\n",
            "313/313 [==============================] - 156s 497ms/step - loss: 0.0880 - accuracy: 0.9659 - val_loss: 0.2043 - val_accuracy: 0.9400 - lr: 0.0010\n"
          ]
        },
        {
          "output_type": "execute_result",
          "data": {
            "text/plain": [
              "<keras.src.callbacks.History at 0x7a8bb02425c0>"
            ]
          },
          "metadata": {},
          "execution_count": 20
        }
      ]
    },
    {
      "cell_type": "code",
      "source": [
        "# Evaluate the model\n",
        "loss, accuracy = model.evaluate(test_generator)\n",
        "print(\"Test Loss:\", loss)\n",
        "print(\"Test Accuracy:\", accuracy)"
      ],
      "metadata": {
        "id": "QmIdYewZgaOn",
        "colab": {
          "base_uri": "https://localhost:8080/"
        },
        "outputId": "b6b56474-0420-4d14-f311-3b7cb2d59f1a"
      },
      "execution_count": null,
      "outputs": [
        {
          "output_type": "stream",
          "name": "stdout",
          "text": [
            "63/63 [==============================] - 1045s 17s/step - loss: 0.5061 - accuracy: 0.8420\n",
            "Test Loss: 0.506075918674469\n",
            "Test Accuracy: 0.8420000076293945\n"
          ]
        }
      ]
    },
    {
      "cell_type": "markdown",
      "source": [
        "Test 6"
      ],
      "metadata": {
        "id": "BTWTuXbBegNC"
      }
    },
    {
      "cell_type": "code",
      "source": [
        "import os\n",
        "import random\n",
        "import numpy as np\n",
        "import tensorflow as tf\n",
        "import pandas as pd\n",
        "from tensorflow.keras.preprocessing.image import ImageDataGenerator\n",
        "from tensorflow.keras.applications import EfficientNetB0\n",
        "from tensorflow.keras.layers import Dense, GlobalAveragePooling2D, Dropout\n",
        "from tensorflow.keras.models import Model\n",
        "from tensorflow.keras.callbacks import ReduceLROnPlateau"
      ],
      "metadata": {
        "id": "x0zbmMdRejQU"
      },
      "execution_count": null,
      "outputs": []
    },
    {
      "cell_type": "code",
      "source": [
        "# Set random seed for reproducibility\n",
        "random.seed(42)\n",
        "np.random.seed(42)\n",
        "tf.random.set_seed(42)"
      ],
      "metadata": {
        "id": "ah8tL0x1enXw"
      },
      "execution_count": null,
      "outputs": []
    },
    {
      "cell_type": "code",
      "source": [
        "# Path to the directory containing the dataset\n",
        "data_dir = \"/content/drive/MyDrive/MIS 548 Porject Dataset\""
      ],
      "metadata": {
        "id": "8wfUzmc9eobM"
      },
      "execution_count": null,
      "outputs": []
    },
    {
      "cell_type": "code",
      "source": [
        "# Data sampling and loading\n",
        "def sample_data(directory, sample_size):\n",
        "    files = os.listdir(directory)\n",
        "    sampled_files = random.sample(files, sample_size)\n",
        "    return [os.path.join(directory, file) for file in sampled_files]\n",
        "\n",
        "def load_data(directory, sample_size):\n",
        "    real_samples = sample_data(os.path.join(directory, \"Real\"), sample_size // 2)\n",
        "    fake_samples = sample_data(os.path.join(directory, \"Fake\"), sample_size // 2)\n",
        "    all_samples = real_samples + fake_samples\n",
        "    labels = [1] * (sample_size // 2) + [0] * (sample_size // 2)\n",
        "    return all_samples, labels"
      ],
      "metadata": {
        "id": "K9jO2EPGep9o"
      },
      "execution_count": null,
      "outputs": []
    },
    {
      "cell_type": "code",
      "source": [
        "# Load sampled data\n",
        "train_samples, train_labels = load_data(os.path.join(data_dir, \"Train\"), 8000)\n",
        "val_samples, val_labels = load_data(os.path.join(data_dir, \"Validation\"), 1000)\n",
        "test_samples, test_labels = load_data(os.path.join(data_dir, \"Test\"), 1000)"
      ],
      "metadata": {
        "id": "IUSI11jVetsL"
      },
      "execution_count": null,
      "outputs": []
    },
    {
      "cell_type": "code",
      "source": [
        "# Convert to DataFrame for using flow_from_dataframe\n",
        "train_df = pd.DataFrame({'filename': train_samples, 'class': train_labels})\n",
        "val_df = pd.DataFrame({'filename': val_samples, 'class': val_labels})\n",
        "test_df = pd.DataFrame({'filename': test_samples, 'class': test_labels})"
      ],
      "metadata": {
        "id": "6i4hiUKVnjoz"
      },
      "execution_count": null,
      "outputs": []
    },
    {
      "cell_type": "code",
      "source": [
        "# Convert class labels to strings\n",
        "train_df['class'] = train_df['class'].astype(str)\n",
        "val_df['class'] = val_df['class'].astype(str)\n",
        "test_df['class'] = test_df['class'].astype(str)"
      ],
      "metadata": {
        "id": "DdOXK4OrnnMr"
      },
      "execution_count": null,
      "outputs": []
    },
    {
      "cell_type": "code",
      "source": [
        "# Data preprocessing and augmentation\n",
        "train_datagen = ImageDataGenerator(\n",
        "    preprocessing_function=tf.keras.applications.efficientnet.preprocess_input,\n",
        "    rotation_range=45,\n",
        "    width_shift_range=0.3,\n",
        "    height_shift_range=0.3,\n",
        "    shear_range=0.2,\n",
        "    zoom_range=0.2,\n",
        "    horizontal_flip=True,\n",
        "    brightness_range=[0.8, 1.2],\n",
        "    fill_mode='nearest'\n",
        ")\n",
        "\n",
        "val_datagen = ImageDataGenerator(\n",
        "    preprocessing_function=tf.keras.applications.efficientnet.preprocess_input\n",
        ")\n",
        "\n",
        "test_datagen = ImageDataGenerator(\n",
        "    preprocessing_function=tf.keras.applications.efficientnet.preprocess_input\n",
        ")"
      ],
      "metadata": {
        "id": "mgcrCG0MhwBo"
      },
      "execution_count": null,
      "outputs": []
    },
    {
      "cell_type": "code",
      "source": [
        "# Create generators\n",
        "train_generator = train_datagen.flow_from_dataframe(\n",
        "    train_df,\n",
        "    target_size=(224, 224),\n",
        "    batch_size=32,\n",
        "    class_mode='binary'\n",
        ")\n",
        "\n",
        "val_generator = val_datagen.flow_from_dataframe(\n",
        "    val_df,\n",
        "    target_size=(224, 224),\n",
        "    batch_size=32,\n",
        "    class_mode='binary'\n",
        ")\n",
        "\n",
        "test_generator = test_datagen.flow_from_dataframe(\n",
        "    test_df,\n",
        "    target_size=(224, 224),\n",
        "    batch_size=32,\n",
        "    class_mode='binary'\n",
        ")"
      ],
      "metadata": {
        "colab": {
          "base_uri": "https://localhost:8080/"
        },
        "id": "oK3DrrFGhyHu",
        "outputId": "be114ec0-2725-4d12-cc69-6d742ef4638d"
      },
      "execution_count": null,
      "outputs": [
        {
          "output_type": "stream",
          "name": "stdout",
          "text": [
            "Found 8000 validated image filenames belonging to 2 classes.\n",
            "Found 1000 validated image filenames belonging to 2 classes.\n",
            "Found 1000 validated image filenames belonging to 2 classes.\n"
          ]
        }
      ]
    },
    {
      "cell_type": "code",
      "source": [
        "# Define the EfficientNet model architecture with dropout regularization\n",
        "base_model = EfficientNetB0(weights='imagenet', include_top=False, input_shape=(224, 224, 3))\n",
        "x = base_model.output\n",
        "x = GlobalAveragePooling2D()(x)\n",
        "x = Dropout(0.5)(x)  # Add dropout regularization\n",
        "predictions = Dense(1, activation='sigmoid')(x)\n",
        "model = Model(inputs=base_model.input, outputs=predictions)"
      ],
      "metadata": {
        "colab": {
          "base_uri": "https://localhost:8080/"
        },
        "id": "Mk-1byd1hz50",
        "outputId": "2f806daf-13e3-4049-9310-6175e51e4bb4"
      },
      "execution_count": null,
      "outputs": [
        {
          "output_type": "stream",
          "name": "stdout",
          "text": [
            "Downloading data from https://storage.googleapis.com/keras-applications/efficientnetb0_notop.h5\n",
            "16705208/16705208 [==============================] - 1s 0us/step\n"
          ]
        }
      ]
    },
    {
      "cell_type": "code",
      "source": [
        "# Freeze the base model layers\n",
        "for layer in base_model.layers:\n",
        "    layer.trainable = False"
      ],
      "metadata": {
        "id": "O4EKbNPmh1kc"
      },
      "execution_count": null,
      "outputs": []
    },
    {
      "cell_type": "code",
      "source": [
        "# Compile the model\n",
        "model.compile(optimizer='adam',\n",
        "              loss='binary_crossentropy',\n",
        "              metrics=['accuracy'])"
      ],
      "metadata": {
        "id": "dMKrwP-zh4Hf"
      },
      "execution_count": null,
      "outputs": []
    },
    {
      "cell_type": "code",
      "source": [
        "# Implement Learning Rate Scheduling\n",
        "reduce_lr = ReduceLROnPlateau(monitor='val_loss', factor=0.2, patience=2, min_lr=1e-6)"
      ],
      "metadata": {
        "id": "QGBOooYqh5fk"
      },
      "execution_count": null,
      "outputs": []
    },
    {
      "cell_type": "code",
      "source": [
        "# Train the model\n",
        "model.fit(train_generator,\n",
        "          epochs=5,\n",
        "          validation_data=val_generator,\n",
        "          callbacks=[reduce_lr])"
      ],
      "metadata": {
        "colab": {
          "base_uri": "https://localhost:8080/"
        },
        "id": "sazcleO-h7G_",
        "outputId": "affee36a-49ea-4be0-ee07-1996614731be"
      },
      "execution_count": null,
      "outputs": [
        {
          "output_type": "stream",
          "name": "stdout",
          "text": [
            "Epoch 1/5\n",
            "250/250 [==============================] - 4648s 19s/step - loss: 0.6124 - accuracy: 0.6541 - val_loss: 0.5176 - val_accuracy: 0.7550 - lr: 0.0010\n",
            "Epoch 2/5\n",
            "250/250 [==============================] - 117s 466ms/step - loss: 0.5423 - accuracy: 0.7235 - val_loss: 0.5008 - val_accuracy: 0.7530 - lr: 0.0010\n",
            "Epoch 3/5\n",
            "250/250 [==============================] - 118s 474ms/step - loss: 0.5207 - accuracy: 0.7446 - val_loss: 0.5219 - val_accuracy: 0.7480 - lr: 0.0010\n",
            "Epoch 4/5\n",
            "250/250 [==============================] - 116s 465ms/step - loss: 0.5096 - accuracy: 0.7469 - val_loss: 0.4724 - val_accuracy: 0.7750 - lr: 0.0010\n",
            "Epoch 5/5\n",
            "250/250 [==============================] - 115s 461ms/step - loss: 0.5116 - accuracy: 0.7475 - val_loss: 0.4860 - val_accuracy: 0.7650 - lr: 0.0010\n"
          ]
        },
        {
          "output_type": "execute_result",
          "data": {
            "text/plain": [
              "<keras.src.callbacks.History at 0x7d85cc291ed0>"
            ]
          },
          "metadata": {},
          "execution_count": 18
        }
      ]
    },
    {
      "cell_type": "code",
      "source": [
        "# Fine-tune more layers of the model\n",
        "for layer in model.layers[-100:]:\n",
        "    layer.trainable = True"
      ],
      "metadata": {
        "id": "W_ocpy4Th8mT"
      },
      "execution_count": null,
      "outputs": []
    },
    {
      "cell_type": "code",
      "source": [
        "# Adjust learning rate for fine-tuning\n",
        "model.compile(optimizer=tf.keras.optimizers.Adam(lr=0.00001),\n",
        "              loss='binary_crossentropy',\n",
        "              metrics=['accuracy'])"
      ],
      "metadata": {
        "id": "LrrMt1_yh_Vc"
      },
      "execution_count": null,
      "outputs": []
    },
    {
      "cell_type": "code",
      "source": [
        "# Train the model with fine-tuning\n",
        "model.fit(train_generator,\n",
        "          epochs=5,\n",
        "          validation_data=val_generator,\n",
        "          callbacks=[reduce_lr])"
      ],
      "metadata": {
        "colab": {
          "base_uri": "https://localhost:8080/"
        },
        "id": "uLO7mT2diBh0",
        "outputId": "36d25b93-3ab0-4954-d354-b6aa390b214c"
      },
      "execution_count": null,
      "outputs": [
        {
          "output_type": "stream",
          "name": "stdout",
          "text": [
            "Epoch 1/5\n",
            "250/250 [==============================] - 134s 469ms/step - loss: 0.2631 - accuracy: 0.8944 - val_loss: 0.2882 - val_accuracy: 0.8950 - lr: 0.0010\n",
            "Epoch 2/5\n",
            "250/250 [==============================] - 115s 461ms/step - loss: 0.1617 - accuracy: 0.9385 - val_loss: 0.4227 - val_accuracy: 0.8820 - lr: 0.0010\n",
            "Epoch 3/5\n",
            "250/250 [==============================] - 115s 462ms/step - loss: 0.1267 - accuracy: 0.9501 - val_loss: 0.2433 - val_accuracy: 0.9330 - lr: 0.0010\n",
            "Epoch 4/5\n",
            "250/250 [==============================] - 115s 462ms/step - loss: 0.1070 - accuracy: 0.9590 - val_loss: 0.3691 - val_accuracy: 0.9080 - lr: 0.0010\n",
            "Epoch 5/5\n",
            "250/250 [==============================] - 114s 455ms/step - loss: 0.1146 - accuracy: 0.9560 - val_loss: 0.2622 - val_accuracy: 0.9140 - lr: 0.0010\n"
          ]
        },
        {
          "output_type": "execute_result",
          "data": {
            "text/plain": [
              "<keras.src.callbacks.History at 0x7d85d0951f00>"
            ]
          },
          "metadata": {},
          "execution_count": 21
        }
      ]
    },
    {
      "cell_type": "code",
      "source": [
        "# Evaluate the model\n",
        "loss, accuracy = model.evaluate(test_generator)\n",
        "print(\"Test Loss:\", loss)\n",
        "print(\"Test Accuracy:\", accuracy)"
      ],
      "metadata": {
        "colab": {
          "base_uri": "https://localhost:8080/"
        },
        "id": "WfcdJ946eiKZ",
        "outputId": "826c92fc-80b9-49a6-b2e8-ee5f4db3a5e0"
      },
      "execution_count": null,
      "outputs": [
        {
          "output_type": "stream",
          "name": "stdout",
          "text": [
            "32/32 [==============================] - 512s 16s/step - loss: 0.3794 - accuracy: 0.8670\n",
            "Test Loss: 0.3794298768043518\n",
            "Test Accuracy: 0.8669999837875366\n"
          ]
        }
      ]
    },
    {
      "cell_type": "markdown",
      "source": [
        "Test 7\n",
        "\n",
        "Original EfficientNetB0 with modified numbers of sample"
      ],
      "metadata": {
        "id": "B1J0nz8SG7yF"
      }
    },
    {
      "cell_type": "code",
      "source": [
        "import os\n",
        "import random\n",
        "import numpy as np\n",
        "import tensorflow as tf\n",
        "from tensorflow.keras.preprocessing.image import ImageDataGenerator\n",
        "from tensorflow.keras.applications import EfficientNetB0\n",
        "from tensorflow.keras.layers import Dense, GlobalAveragePooling2D\n",
        "from tensorflow.keras.models import Model\n",
        "from sklearn.utils import shuffle"
      ],
      "metadata": {
        "id": "gOADCqjpG7NM"
      },
      "execution_count": null,
      "outputs": []
    },
    {
      "cell_type": "code",
      "source": [
        "# Set random seed for reproducibility\n",
        "random.seed(42)\n",
        "np.random.seed(42)\n",
        "tf.random.set_seed(42)"
      ],
      "metadata": {
        "id": "L6cUIW1rHIO9"
      },
      "execution_count": null,
      "outputs": []
    },
    {
      "cell_type": "code",
      "source": [
        "# Path to the directory containing the dataset\n",
        "data_dir = \"/content/drive/MyDrive/MIS 548 Porject Dataset\""
      ],
      "metadata": {
        "id": "RUsgLFAYHImq"
      },
      "execution_count": null,
      "outputs": []
    },
    {
      "cell_type": "code",
      "source": [
        "# Data sampling and loading\n",
        "def sample_data(directory, sample_size):\n",
        "    files = os.listdir(directory)\n",
        "    sampled_files = random.sample(files, sample_size)\n",
        "    return [os.path.join(directory, file) for file in sampled_files]\n",
        "\n",
        "def load_data(directory, sample_size):\n",
        "    real_samples = sample_data(os.path.join(directory, \"Real\"), sample_size // 2)\n",
        "    fake_samples = sample_data(os.path.join(directory, \"Fake\"), sample_size // 2)\n",
        "    all_samples = real_samples + fake_samples\n",
        "    labels = [1] * (sample_size // 2) + [0] * (sample_size // 2)\n",
        "    all_samples, labels = shuffle(all_samples, labels)\n",
        "    return all_samples, labels\n",
        "\n",
        "train_samples, train_labels = load_data(os.path.join(data_dir, \"Train\"), 8000)\n",
        "val_samples, val_labels = load_data(os.path.join(data_dir, \"Validation\"), 1000)"
      ],
      "metadata": {
        "id": "rpQ8rRxhHMA0"
      },
      "execution_count": null,
      "outputs": []
    },
    {
      "cell_type": "code",
      "source": [
        "# Data preprocessing\n",
        "def preprocess_image(image):\n",
        "    image = tf.image.decode_jpeg(image, channels=3)\n",
        "    image = tf.image.resize(image, (224, 224))  # EfficientNet input size\n",
        "    image = tf.keras.applications.efficientnet.preprocess_input(image)\n",
        "    return image\n",
        "\n",
        "def load_and_preprocess_image(path, label):\n",
        "    image = tf.io.read_file(path)\n",
        "    return preprocess_image(image), label"
      ],
      "metadata": {
        "id": "R1mDm_UNHPx1"
      },
      "execution_count": null,
      "outputs": []
    },
    {
      "cell_type": "code",
      "source": [
        "# Create TensorFlow datasets\n",
        "train_dataset = tf.data.Dataset.from_tensor_slices((train_samples, train_labels))\n",
        "train_dataset = train_dataset.map(load_and_preprocess_image)\n",
        "train_dataset = train_dataset.shuffle(buffer_size=len(train_samples)).batch(32)\n",
        "\n",
        "val_dataset = tf.data.Dataset.from_tensor_slices((val_samples, val_labels))\n",
        "val_dataset = val_dataset.map(load_and_preprocess_image)\n",
        "val_dataset = val_dataset.batch(32)"
      ],
      "metadata": {
        "id": "dWQsAE-0HRQa"
      },
      "execution_count": null,
      "outputs": []
    },
    {
      "cell_type": "code",
      "source": [
        "# Define the EfficientNet model architecture\n",
        "base_model = EfficientNetB0(weights='imagenet', include_top=False, input_shape=(224, 224, 3))\n",
        "x = base_model.output\n",
        "x = GlobalAveragePooling2D()(x)\n",
        "predictions = Dense(1, activation='sigmoid')(x)\n",
        "model = Model(inputs=base_model.input, outputs=predictions)"
      ],
      "metadata": {
        "colab": {
          "base_uri": "https://localhost:8080/"
        },
        "id": "fgQve4jqHRto",
        "outputId": "9d9b4c02-099f-4a23-d718-144317cd1b7c"
      },
      "execution_count": null,
      "outputs": [
        {
          "output_type": "stream",
          "name": "stdout",
          "text": [
            "Downloading data from https://storage.googleapis.com/keras-applications/efficientnetb0_notop.h5\n",
            "16705208/16705208 [==============================] - 0s 0us/step\n"
          ]
        }
      ]
    },
    {
      "cell_type": "code",
      "source": [
        "# Compile the model\n",
        "model.compile(optimizer='adam',\n",
        "              loss='binary_crossentropy',\n",
        "              metrics=['accuracy'])"
      ],
      "metadata": {
        "id": "xkBzRXTnHTTR"
      },
      "execution_count": null,
      "outputs": []
    },
    {
      "cell_type": "code",
      "source": [
        "# Train the model\n",
        "model.fit(train_dataset,\n",
        "          epochs=5,\n",
        "          validation_data=val_dataset)"
      ],
      "metadata": {
        "colab": {
          "base_uri": "https://localhost:8080/"
        },
        "id": "g4sUPZYPHUiz",
        "outputId": "68a75d45-8547-4dbf-85dd-9c596304cdbc"
      },
      "execution_count": null,
      "outputs": [
        {
          "output_type": "stream",
          "name": "stdout",
          "text": [
            "Epoch 1/5\n",
            "250/250 [==============================] - 494s 310ms/step - loss: 0.1709 - accuracy: 0.9295 - val_loss: 0.3025 - val_accuracy: 0.9250\n",
            "Epoch 2/5\n",
            "250/250 [==============================] - 38s 108ms/step - loss: 0.0758 - accuracy: 0.9694 - val_loss: 0.2689 - val_accuracy: 0.9230\n",
            "Epoch 3/5\n",
            "250/250 [==============================] - 38s 108ms/step - loss: 0.0462 - accuracy: 0.9827 - val_loss: 0.1882 - val_accuracy: 0.9450\n",
            "Epoch 4/5\n",
            "250/250 [==============================] - 38s 108ms/step - loss: 0.0448 - accuracy: 0.9818 - val_loss: 0.4939 - val_accuracy: 0.8360\n",
            "Epoch 5/5\n",
            "250/250 [==============================] - 38s 109ms/step - loss: 0.0369 - accuracy: 0.9861 - val_loss: 0.1849 - val_accuracy: 0.9530\n"
          ]
        },
        {
          "output_type": "execute_result",
          "data": {
            "text/plain": [
              "<keras.src.callbacks.History at 0x7843fcd4d270>"
            ]
          },
          "metadata": {},
          "execution_count": 11
        }
      ]
    },
    {
      "cell_type": "code",
      "source": [
        "# Evaluate the model\n",
        "test_samples, test_labels = load_data(os.path.join(data_dir, \"Test\"), 1000)\n",
        "test_dataset = tf.data.Dataset.from_tensor_slices((test_samples, test_labels))\n",
        "test_dataset = test_dataset.map(load_and_preprocess_image)\n",
        "test_dataset = test_dataset.batch(32)\n",
        "\n",
        "loss, accuracy = model.evaluate(test_dataset)\n",
        "print(\"Test Loss:\", loss)\n",
        "print(\"Test Accuracy:\", accuracy)"
      ],
      "metadata": {
        "colab": {
          "base_uri": "https://localhost:8080/"
        },
        "id": "tz0oFvK1HVtA",
        "outputId": "f4fbbac0-d9b7-4d8e-9bec-4efa4d488b89"
      },
      "execution_count": null,
      "outputs": [
        {
          "output_type": "stream",
          "name": "stdout",
          "text": [
            "32/32 [==============================] - 113s 4s/step - loss: 0.4388 - accuracy: 0.8410\n",
            "Test Loss: 0.4387854337692261\n",
            "Test Accuracy: 0.8410000205039978\n"
          ]
        }
      ]
    },
    {
      "cell_type": "markdown",
      "source": [
        "V8 ResNet 101"
      ],
      "metadata": {
        "id": "3sUXDBUjvmbB"
      }
    },
    {
      "cell_type": "code",
      "source": [
        "import os\n",
        "import random\n",
        "import numpy as np\n",
        "import tensorflow as tf\n",
        "from tensorflow.keras.preprocessing.image import ImageDataGenerator\n",
        "from tensorflow.keras.applications import ResNet101\n",
        "from tensorflow.keras.layers import Dense, GlobalAveragePooling2D\n",
        "from tensorflow.keras.models import Model\n",
        "from sklearn.utils import shuffle"
      ],
      "metadata": {
        "id": "xq1XXe3Wwvx3"
      },
      "execution_count": null,
      "outputs": []
    },
    {
      "cell_type": "code",
      "source": [
        "# Set random seed for reproducibility\n",
        "random.seed(42)\n",
        "np.random.seed(42)\n",
        "tf.random.set_seed(42)"
      ],
      "metadata": {
        "id": "f7TfLA0ZwxP9"
      },
      "execution_count": null,
      "outputs": []
    },
    {
      "cell_type": "code",
      "source": [
        "# Path to the directory containing the dataset\n",
        "data_dir = \"/content/drive/MyDrive/MIS 548 Porject Dataset\""
      ],
      "metadata": {
        "id": "W--AZu7gwyUs"
      },
      "execution_count": null,
      "outputs": []
    },
    {
      "cell_type": "code",
      "source": [
        "# Data sampling and loading\n",
        "def sample_data(directory, sample_size):\n",
        "    files = os.listdir(directory)\n",
        "    sampled_files = random.sample(files, sample_size)\n",
        "    return [os.path.join(directory, file) for file in sampled_files]\n",
        "\n",
        "def load_data(directory, sample_size):\n",
        "    real_samples = sample_data(os.path.join(directory, \"Real\"), sample_size // 2)\n",
        "    fake_samples = sample_data(os.path.join(directory, \"Fake\"), sample_size // 2)\n",
        "    all_samples = real_samples + fake_samples\n",
        "    labels = [1] * (sample_size // 2) + [0] * (sample_size // 2)\n",
        "    all_samples, labels = shuffle(all_samples, labels)\n",
        "    return all_samples, labels"
      ],
      "metadata": {
        "id": "I0DFTbdXw2lw"
      },
      "execution_count": null,
      "outputs": []
    },
    {
      "cell_type": "code",
      "source": [
        "# Load data after sampling\n",
        "train_samples, train_labels = load_data(os.path.join(data_dir, \"Train\"), 10000)\n",
        "val_samples, val_labels = load_data(os.path.join(data_dir, \"Validation\"), 2000)\n",
        "test_samples, test_labels = load_data(os.path.join(data_dir, \"Test\"), 2000)"
      ],
      "metadata": {
        "id": "yXNGpHdnw5qZ"
      },
      "execution_count": null,
      "outputs": []
    },
    {
      "cell_type": "code",
      "source": [
        "# Data preprocessing\n",
        "def preprocess_image(image):\n",
        "    image = tf.image.decode_jpeg(image, channels=3)\n",
        "    image = tf.image.resize(image, (224, 224))\n",
        "    image = tf.keras.applications.resnet.preprocess_input(image)\n",
        "    return image\n",
        "\n",
        "def load_and_preprocess_image(path, label):\n",
        "    image = tf.io.read_file(path)\n",
        "    return preprocess_image(image), label"
      ],
      "metadata": {
        "id": "C54CaCy3w7Ed"
      },
      "execution_count": null,
      "outputs": []
    },
    {
      "cell_type": "code",
      "source": [
        "# Create TensorFlow datasets\n",
        "train_dataset = tf.data.Dataset.from_tensor_slices((train_samples, train_labels))\n",
        "train_dataset = train_dataset.map(load_and_preprocess_image)\n",
        "train_dataset = train_dataset.shuffle(buffer_size=len(train_samples)).batch(32)\n",
        "\n",
        "val_dataset = tf.data.Dataset.from_tensor_slices((val_samples, val_labels))\n",
        "val_dataset = val_dataset.map(load_and_preprocess_image)\n",
        "val_dataset = val_dataset.batch(32)\n",
        "\n",
        "test_dataset = tf.data.Dataset.from_tensor_slices((test_samples, test_labels))\n",
        "test_dataset = test_dataset.map(load_and_preprocess_image)\n",
        "test_dataset = test_dataset.batch(32)"
      ],
      "metadata": {
        "id": "i8r3ezRlw88V"
      },
      "execution_count": null,
      "outputs": []
    },
    {
      "cell_type": "code",
      "source": [
        "# Define the ResNet101 model architecture\n",
        "base_model = ResNet101(weights='imagenet', include_top=False)\n",
        "x = base_model.output\n",
        "x = GlobalAveragePooling2D()(x)\n",
        "predictions = Dense(1, activation='sigmoid')(x)\n",
        "model = Model(inputs=base_model.input, outputs=predictions)"
      ],
      "metadata": {
        "colab": {
          "base_uri": "https://localhost:8080/"
        },
        "id": "yIz58VYZw_s9",
        "outputId": "ef81eff2-0a93-4552-a6c0-7ccb54621575"
      },
      "execution_count": null,
      "outputs": [
        {
          "output_type": "stream",
          "name": "stdout",
          "text": [
            "Downloading data from https://storage.googleapis.com/tensorflow/keras-applications/resnet/resnet101_weights_tf_dim_ordering_tf_kernels_notop.h5\n",
            "171446536/171446536 [==============================] - 5s 0us/step\n"
          ]
        }
      ]
    },
    {
      "cell_type": "code",
      "source": [
        "# Compile the model\n",
        "model.compile(optimizer='adam',\n",
        "              loss='binary_crossentropy',\n",
        "              metrics=['accuracy'])"
      ],
      "metadata": {
        "id": "a7QmQMZhxBme"
      },
      "execution_count": null,
      "outputs": []
    },
    {
      "cell_type": "code",
      "source": [
        "# Train the model\n",
        "model.fit(train_dataset,\n",
        "          epochs=5,\n",
        "          validation_data=val_dataset)"
      ],
      "metadata": {
        "colab": {
          "base_uri": "https://localhost:8080/"
        },
        "id": "8_XVlBlVxDrD",
        "outputId": "fd55c81e-4163-4bb5-d431-236d48712483"
      },
      "execution_count": null,
      "outputs": [
        {
          "output_type": "stream",
          "name": "stdout",
          "text": [
            "Epoch 1/5\n",
            "313/313 [==============================] - 865s 558ms/step - loss: 0.5073 - accuracy: 0.7643 - val_loss: 0.9388 - val_accuracy: 0.8800\n",
            "Epoch 2/5\n",
            "313/313 [==============================] - 76s 189ms/step - loss: 0.2172 - accuracy: 0.9143 - val_loss: 0.3767 - val_accuracy: 0.8725\n",
            "Epoch 3/5\n",
            "313/313 [==============================] - 76s 189ms/step - loss: 0.1500 - accuracy: 0.9379 - val_loss: 0.4613 - val_accuracy: 0.8415\n",
            "Epoch 4/5\n",
            "313/313 [==============================] - 75s 189ms/step - loss: 0.1287 - accuracy: 0.9486 - val_loss: 0.2167 - val_accuracy: 0.9160\n",
            "Epoch 5/5\n",
            "313/313 [==============================] - 76s 188ms/step - loss: 0.1088 - accuracy: 0.9542 - val_loss: 0.3556 - val_accuracy: 0.9115\n"
          ]
        },
        {
          "output_type": "execute_result",
          "data": {
            "text/plain": [
              "<keras.src.callbacks.History at 0x78a86811d900>"
            ]
          },
          "metadata": {},
          "execution_count": 13
        }
      ]
    },
    {
      "cell_type": "code",
      "source": [
        "# Evaluate the model\n",
        "loss, accuracy = model.evaluate(test_dataset)\n",
        "print(\"Test Loss:\", loss)\n",
        "print(\"Test Accuracy:\", accuracy)"
      ],
      "metadata": {
        "colab": {
          "base_uri": "https://localhost:8080/"
        },
        "id": "8ltW72Rnwu2g",
        "outputId": "e38ca6cd-f493-4485-cefe-9be429098866"
      },
      "execution_count": null,
      "outputs": [
        {
          "output_type": "stream",
          "name": "stdout",
          "text": [
            "63/63 [==============================] - 130s 2s/step - loss: 0.5077 - accuracy: 0.8010\n",
            "Test Loss: 0.5077254772186279\n",
            "Test Accuracy: 0.8009999990463257\n"
          ]
        }
      ]
    }
  ]
}